{
 "cells": [
  {
   "cell_type": "markdown",
   "metadata": {},
   "source": [
    "<h1>Datetime recognizer</h1>\n",
    "Train a model to recognize any datetimes in a given text string. \n",
    "\n",
    "Start with simple iso8601s and then progress to locales, timezones, countries & conventions.\n",
    "\n",
    "\n",
    "Starting from the Keras autoencoder example."
   ]
  },
  {
   "cell_type": "code",
   "execution_count": 1,
   "metadata": {
    "collapsed": true
   },
   "outputs": [],
   "source": [
    "import os\n",
    "\n",
    "os.environ['KERAS_BACKEND'] = 'tensorflow'\n",
    "os.environ['LD_LIBRARY_PATH'] = '/usr/local/cuda/lib64'\n",
    "os.environ['CUDA_HOME'] = '/usr/local/cuda'"
   ]
  },
  {
   "cell_type": "code",
   "execution_count": 2,
   "metadata": {
    "collapsed": false
   },
   "outputs": [
    {
     "name": "stderr",
     "output_type": "stream",
     "text": [
      "Using TensorFlow backend.\n"
     ]
    }
   ],
   "source": [
    "# -*- coding: utf-8 -*-\n",
    "'''An implementation of sequence to sequence learning to decode localized datetimes from strings\n",
    "Input: \"Monday 31 December 2007 07:07:07.0000000 +02:00 CET/Europe\"\n",
    "or\n",
    "       \"Monday, 24 October 1977 at 09:10:55 Greenwich Mean Time\"\n",
    "Output: \"2007-12-31T07:07:07.00000+02:00\"\n",
    "Padding is handled by using a repeated sentinel character (space)\n",
    "\n",
    "\n",
    "Input may optionally be inverted, shown to increase performance in many tasks in:\n",
    "\"Learning to Execute\"\n",
    "http://arxiv.org/abs/1410.4615\n",
    "and\n",
    "\"Sequence to Sequence Learning with Neural Networks\"\n",
    "http://papers.nips.cc/paper/5346-sequence-to-sequence-learning-with-neural-networks.pdf\n",
    "Theoretically it introduces shorter term dependencies between source and target.\n",
    "\n",
    "'''\n",
    "from keras.models import Sequential\n",
    "from keras.engine.training import slice_X\n",
    "from keras.layers import Activation, TimeDistributed, Dense, RepeatVector, recurrent, Dropout, Flatten, Embedding ,Merge\n",
    "from keras.layers.convolutional import Convolution1D, Cropping1D, UpSampling1D, Convolution2D\n",
    "from keras.layers.pooling import MaxPooling1D\n",
    "from keras.layers.local import LocallyConnected1D\n",
    "from keras.optimizers import Adam, SGD, RMSprop, Nadam\n",
    "from keras.callbacks import LearningRateScheduler, ModelCheckpoint, EarlyStopping\n",
    "from keras.layers.wrappers import Bidirectional\n",
    "from keras.layers.core import Reshape\n",
    "#from keras.callbacks import ReduceLROnPlateau\n",
    "import numpy as np\n",
    "from six.moves import range\n",
    "import pytz\n",
    "from datetime import datetime, timezone\n",
    "import itertools\n",
    "import random\n",
    "from babel import Locale, localedata, UnknownLocaleError\n",
    "from babel.dates import format_datetime\n",
    "from tqdm import tqdm\n",
    "import sys\n",
    "import string\n",
    "import math"
   ]
  },
  {
   "cell_type": "code",
   "execution_count": 3,
   "metadata": {
    "collapsed": true
   },
   "outputs": [],
   "source": [
    "import matplotlib.pyplot as plt\n",
    "import math"
   ]
  },
  {
   "cell_type": "code",
   "execution_count": 4,
   "metadata": {
    "collapsed": true
   },
   "outputs": [],
   "source": [
    "%matplotlib inline"
   ]
  },
  {
   "cell_type": "code",
   "execution_count": 5,
   "metadata": {
    "collapsed": true
   },
   "outputs": [],
   "source": [
    "class CharacterTable(object):\n",
    "    '''\n",
    "    Given a set of characters:\n",
    "    + Encode them to a one hot integer representation\n",
    "    + Decode the one hot integer representation to their character output\n",
    "    + Decode a vector of probabilities to their character output\n",
    "    '''\n",
    "    def __init__(self, country_codes, maxlen):\n",
    "        self.chars = set(string.ascii_letters + \n",
    "                         string.punctuation + \n",
    "                         string.digits\n",
    "                        )\n",
    "\n",
    "        ts_from = int(datetime(1980, 1, 1, tzinfo=timezone.utc).timestamp())\n",
    "        ts_to   = int(datetime(1981, 1, 1, tzinfo=timezone.utc).timestamp())\n",
    "        tstamps = [t for t in range(ts_from, ts_to, 60*1000)]\n",
    "        retries = 0\n",
    "        \n",
    "        #Hoover up all the non-ascii characters that might be needed\n",
    "        for country_code in tqdm(country_codes):\n",
    "            try:                            \n",
    "                if pytz.country_timezones.get(country_code):\n",
    "                    for ctzone in pytz.country_timezones(country_code):\n",
    "                        tzone = pytz.timezone(ctzone)\n",
    "                        country_locale = Locale.parse('und_' + country_code)\n",
    "                        for fmt  in ['short','medium','long','full']:\n",
    "                            ydts = [datetime.utcfromtimestamp(t).replace(tzinfo=tzone) for t in tstamps]\n",
    "                            if random.choice([True, False]):\n",
    "                                X = [format_datetime(dt, format=fmt, locale=country_locale) for dt in ydts]\n",
    "                            else:\n",
    "                                sep = random.choice([' ','T'])\n",
    "                                X = [dt.isoformat(sep) for dt in ydts]\n",
    "\n",
    "                            # So that's a years worth of datetimes for all the countrys & locales & timezones \n",
    "                            for ln in X:\n",
    "                                # Going with case sensitive because some dt formats have an \"i\"\n",
    "                                self.chars = self.chars.union( set(iter(ln)))\n",
    "                                \n",
    "            except UnknownLocaleError:\n",
    "                print('UnknownLocaleError: %s'%'und_' + country_code, file=sys.stderr)\n",
    "                retries += 1\n",
    "                if retries >=21:\n",
    "                    raise # Somethings gone wrong!\n",
    "\n",
    "        self.chars = sorted(self.chars)\n",
    "\n",
    "        self.char_indices = dict((c, i) for i, c in enumerate(self.chars))\n",
    "        self.indices_char = dict((i, c) for i, c in enumerate(self.chars))\n",
    "        self.maxlen = maxlen\n",
    "\n",
    "    def encode(self, sentence, maxlen=None):\n",
    "        maxlen = maxlen if maxlen else self.maxlen\n",
    "        chunk_size = len(self.chars)\n",
    "        X = np.zeros((maxlen, chunk_size))\n",
    "        for idx, c in enumerate(sentence[:maxlen]):\n",
    "            X[idx, self.char_indices[c]] = 1\n",
    "        return X\n",
    "\n",
    "    def decode(self, X, maxlen=None):\n",
    "        maxlen = maxlen if maxlen else self.maxlen\n",
    "        ret = []\n",
    "        chunk_size = len(self.chars)\n",
    "        for idx in range(maxlen):\n",
    "            retidx = X[idx,:].argmax(axis=-1)\n",
    "            ret.append(self.indices_char[retidx])\n",
    "        return ''.join(ret)\n"
   ]
  },
  {
   "cell_type": "code",
   "execution_count": 6,
   "metadata": {
    "collapsed": false
   },
   "outputs": [
    {
     "name": "stderr",
     "output_type": "stream",
     "text": [
      "100%|██████████| 1/1 [00:00<00:00,  6.10it/s]"
     ]
    },
    {
     "name": "stdout",
     "output_type": "stream",
     "text": [
      "Encoded.shape: (58, 95)\n",
      "Decoded: Monday 21st 1998-01-11 +GMT                               \n"
     ]
    },
    {
     "name": "stderr",
     "output_type": "stream",
     "text": [
      "\n"
     ]
    }
   ],
   "source": [
    "TESTSTRING = 'Monday 21st 1998-01-11 +GMT'\n",
    "ctable = CharacterTable(['GB',], len(\"Monday 31 December 2007 07:07:07.0000000 +02:00 CET/Europe\"))\n",
    "xxx = ctable.encode(TESTSTRING)\n",
    "yyy = ctable.decode(xxx)\n",
    "print('Encoded.shape: %s' % str(xxx.shape))\n",
    "print('Decoded: %s' % yyy)\n",
    "assert(yyy.strip() == TESTSTRING)\n"
   ]
  },
  {
   "cell_type": "code",
   "execution_count": 7,
   "metadata": {
    "collapsed": true
   },
   "outputs": [],
   "source": [
    "class colors:\n",
    "    ok = '\\033[92m'\n",
    "    fail = '\\033[91m'\n",
    "    close = '\\033[0m'"
   ]
  },
  {
   "cell_type": "code",
   "execution_count": 8,
   "metadata": {
    "collapsed": true
   },
   "outputs": [],
   "source": [
    "def DateTimeDataGenerator(sample_size):   \n",
    "    while True:        \n",
    "        # 0xFFFFFFFF 32 bit unsigned max 2106\n",
    "        # 0x7FFFFFFF 32 bit   signed max 2038\n",
    "        tstamps = [random.randrange(0xFFFFFFFF) for _ in range(sample_size)]\n",
    "\n",
    "        yield tstamps\n"
   ]
  },
  {
   "cell_type": "code",
   "execution_count": 9,
   "metadata": {
    "collapsed": false
   },
   "outputs": [],
   "source": [
    "def DateTimeFormattedGenerator(country_codes, sample_size, maxlen_x, maxlen_y):\n",
    "    dtdg = DateTimeDataGenerator(sample_size)\n",
    "    all_locales = localedata.locale_identifiers()\n",
    "    limit          = 8\n",
    "    locale_choices = []\n",
    "    retries        = 0\n",
    "    \n",
    "    # Gather country and timezone options\n",
    "    for country_code in country_codes:\n",
    "        try:                            \n",
    "            if pytz.country_timezones.get(country_code):\n",
    "                for ctzone in pytz.country_timezones(country_code):\n",
    "                    tzone = pytz.timezone(ctzone)\n",
    "                    country_locale = Locale.parse('und_' + country_code)\n",
    "                    for fmt  in ['short','medium','long','full']:\n",
    "                        locale_choices.append({'country_code': country_code,\n",
    "                                               'timezone'    : tzone,\n",
    "                                               'format'      : fmt,\n",
    "                                               'locale'      : country_locale\n",
    "                                              })\n",
    "        except UnknownLocaleError:\n",
    "            print('UnknownLocaleError: %s'%'und_' + country_code, file=sys.stderr)\n",
    "            retries += 1\n",
    "            if retries >= 21:\n",
    "                raise\n",
    "    \n",
    "    locale_choices = (locale_choices * math.ceil(sample_size/len(locale_choices)))[:sample_size]\n",
    "    random.shuffle(locale_choices)\n",
    "    \n",
    "    while True:        \n",
    "        # 0xFFFFFFFF 32 bit unsigned max 2106\n",
    "        # 0x7FFFFFFF 32 bit   signed max 2038\n",
    "        tstamps = next(dtdg)\n",
    "        \n",
    "        ydts  = [ datetime.utcfromtimestamp(t).replace(tzinfo=locale_choices[idx]['timezone']).isoformat('T') \n",
    "                  for idx, t in enumerate(tstamps)]        \n",
    "        X = [format_datetime(datetime.utcfromtimestamp(t).replace(\n",
    "                     tzinfo=locale_choices[idx]['timezone']), \n",
    "                     format=locale_choices[idx]['format'], \n",
    "                     locale=locale_choices[idx]['locale']\n",
    "                     ) \n",
    "             for idx, t in enumerate(tstamps)]\n",
    "\n",
    "        # pad or chop to length\n",
    "        X    = [(pp + (' '*maxlen_x))[:maxlen_x] for pp in X]\n",
    "        ydts = [(pp + (' '*maxlen_y))[:maxlen_y] for pp in ydts]\n",
    "            \n",
    "        yield (X, ydts)"
   ]
  },
  {
   "cell_type": "code",
   "execution_count": 10,
   "metadata": {
    "collapsed": false
   },
   "outputs": [],
   "source": [
    "MAXLEN_X = 72 # longer than anything expected like 'Monday 31 December 2000 07:07:07.0000000 +02:00 CET/Europe'\n",
    "MAXLEN_Y = len(datetime.now().isoformat(' '))\n",
    "\n",
    "def DateTimeVectorGenerator(dt_generator, ctable, invert):    \n",
    "    \"\"\"\n",
    "    Returns: x_batch [batch_size, n_timesteps, vocab_size] \n",
    "             y_batch [batch_size, n_categories]\n",
    "    \"\"\"\n",
    "    X_next, y_next = next(dt_generator)\n",
    "    while True:\n",
    "        # X_next are all the same MAXLEN_X length. Same for y_next\n",
    "        X = np.zeros((len(X_next), MAXLEN_X, len(ctable.chars)), dtype=np.bool)\n",
    "        y = np.zeros((len(y_next), MAXLEN_Y, len(ctable.chars)), dtype=np.bool)\n",
    "        \n",
    "        for idx, sentence in enumerate(X_next):\n",
    "            X[idx] = np.flipud(ctable.encode(sentence, MAXLEN_X)) if invert else ctable.encode(sentence, MAXLEN_X)\n",
    "            \n",
    "        for idx, sentence in enumerate(y_next):\n",
    "            y[idx] = ctable.encode(sentence, MAXLEN_Y)\n",
    "    \n",
    "        yield [X, X, X], y"
   ]
  },
  {
   "cell_type": "code",
   "execution_count": 11,
   "metadata": {
    "collapsed": true
   },
   "outputs": [],
   "source": [
    "def visualize_history(learning_hist, data_filename=None):    \n",
    "    plt.figure(figsize=(12, 6))\n",
    "    discard = int(math.ceil(len(learning_hist)/100))*20\n",
    "    # skip the first few, they destroy plot scale\n",
    "    plt.plot([i for i in learning_hist[-1].history['loss'][discard:]], label='loss')\n",
    "    plt.plot([i for i in learning_hist[-1].history['val_loss'][discard:]], label='val_loss')\n",
    "\n",
    "    plt.ylabel('error')\n",
    "    plt.xlabel('iteration')\n",
    "    plt.legend()\n",
    "    #plt.ylim([0, 0.005])\n",
    "    plt.title('training error')\n",
    "    if (data_filename is not None):\n",
    "        plt.savefig(data_filename)\n",
    "        plt.close()\n",
    "    else:\n",
    "        plt.show()"
   ]
  },
  {
   "cell_type": "code",
   "execution_count": 12,
   "metadata": {
    "collapsed": false
   },
   "outputs": [],
   "source": [
    "# learning rate schedule\n",
    "def step_decay(epoch):\n",
    "    initial_lrate = 0.003 #0.0016875 #0.000533935546875 #0.003\n",
    "    drop = 0.80 #0.75\n",
    "    epochs_drop = 33.0        \n",
    "    lrate = initial_lrate * math.pow(drop, math.floor((1+epoch)/epochs_drop))    \n",
    "    \n",
    "    if not epoch % epochs_drop:\n",
    "        print('Learning rate adjusted: {}'.format(lrate), file=sys.stderr)\n",
    "    \n",
    "    return lrate"
   ]
  },
  {
   "cell_type": "code",
   "execution_count": 13,
   "metadata": {
    "collapsed": false
   },
   "outputs": [],
   "source": [
    "# Parameters for the model and dataset\n",
    "TRAINING_SIZE   = 2345 #tuned to avoid ResourceExhaustedError: OOM when allocating tensor with shape\n",
    "VALIDATION_SIZE = 234\n",
    "INVERT = True\n",
    "# Try replacing GRU, LSTM or SimpleRNN\n",
    "RNN = recurrent.LSTM\n",
    "BATCH_SIZE = 128\n",
    "LAYERS = 4\n",
    "\n",
    "# pytz.country_names.keys()\n",
    "COUNTRY_CODES = ['GB', 'US', 'IE', 'AU', ] #'DE','FR','ES','IT','CA', 'NO','SE','DK','FI','EE','CZ','PL'] \n",
    "EPOCHS=106\n",
    "HIDDEN_SIZE = math.ceil(MAXLEN_X * 1.0) # GRU #9 - SimpleRNN to 80%acc\n",
    "\n",
    "\n"
   ]
  },
  {
   "cell_type": "code",
   "execution_count": null,
   "metadata": {
    "collapsed": false
   },
   "outputs": [],
   "source": []
  },
  {
   "cell_type": "code",
   "execution_count": 14,
   "metadata": {
    "collapsed": false
   },
   "outputs": [
    {
     "name": "stderr",
     "output_type": "stream",
     "text": [
      "100%|██████████| 4/4 [00:05<00:00,  1.43s/it]\n"
     ]
    }
   ],
   "source": [
    "ctable = CharacterTable(COUNTRY_CODES, MAXLEN_X)"
   ]
  },
  {
   "cell_type": "code",
   "execution_count": 15,
   "metadata": {
    "collapsed": false,
    "scrolled": true
   },
   "outputs": [
    {
     "name": "stdout",
     "output_type": "stream",
     "text": [
      "X_train[0].shape: (2345, 72, 95)\n",
      "y_train.shape: (2345, 26, 95)\n"
     ]
    }
   ],
   "source": [
    "#gen_dt = DateTimeIsoGenerator(COUNTRY_CODES, TRAINING_SIZE, MAXLEN_X, MAXLEN_Y)\n",
    "gen_dt = DateTimeFormattedGenerator(COUNTRY_CODES, TRAINING_SIZE, MAXLEN_X, MAXLEN_Y)\n",
    "\n",
    "gen_vec_train      = DateTimeVectorGenerator(gen_dt, ctable, INVERT)\n",
    "gen_vec_validation = DateTimeVectorGenerator(gen_dt, ctable, INVERT)\n",
    "\n",
    "X_train, y_train = next(gen_vec_train)\n",
    "print('X_train[0].shape: %s'%str(X_train[0].shape))\n",
    "print('y_train.shape: %s'%str(y_train.shape))"
   ]
  },
  {
   "cell_type": "code",
   "execution_count": 16,
   "metadata": {
    "collapsed": false
   },
   "outputs": [
    {
     "name": "stdout",
     "output_type": "stream",
     "text": [
      "X_test[0].shape:(2345, 72, 95) \n",
      "y_test.shape: (2345, 26, 95)\n"
     ]
    }
   ],
   "source": [
    "#gen_dt_test = DateTimeIsoGenerator(COUNTRY_CODES, TRAINING_SIZE, MAXLEN_X, MAXLEN_Y)\n",
    "gen_dt_test = DateTimeFormattedGenerator(COUNTRY_CODES, TRAINING_SIZE, MAXLEN_X, MAXLEN_Y)\n",
    "\n",
    "gen_vec_test = DateTimeVectorGenerator(gen_dt_test, ctable, INVERT)\n",
    "\n",
    "X_test, y_test = next(gen_vec_test)\n",
    "print('X_test[0].shape:%s \\ny_test.shape: %s' % (str(X_test[0].shape), str(y_test.shape)))"
   ]
  },
  {
   "cell_type": "code",
   "execution_count": 17,
   "metadata": {
    "collapsed": false
   },
   "outputs": [],
   "source": [
    "stopper = EarlyStopping(patience=25, \n",
    "                        verbose=1, \n",
    "                        mode='auto')"
   ]
  },
  {
   "cell_type": "code",
   "execution_count": 18,
   "metadata": {
    "collapsed": true
   },
   "outputs": [],
   "source": [
    "checkpointer = ModelCheckpoint('../models/checkpoint.{epoch:02d}-{val_loss:.2f}.hdf5', \n",
    "                             monitor='val_loss', \n",
    "                             verbose=1, \n",
    "                             save_best_only=True, \n",
    "                             save_weights_only=False, \n",
    "                             mode='auto')"
   ]
  },
  {
   "cell_type": "code",
   "execution_count": 19,
   "metadata": {
    "collapsed": true
   },
   "outputs": [],
   "source": [
    "learning_hist = []"
   ]
  },
  {
   "cell_type": "code",
   "execution_count": 21,
   "metadata": {
    "collapsed": true
   },
   "outputs": [],
   "source": [
    "# learning schedule callback\n",
    "lrate = LearningRateScheduler(step_decay)\n",
    "callbacks_list = [lrate, ]"
   ]
  },
  {
   "cell_type": "code",
   "execution_count": 30,
   "metadata": {
    "collapsed": false
   },
   "outputs": [
    {
     "name": "stdout",
     "output_type": "stream",
     "text": [
      "Build model...\n",
      "____________________________________________________________________________________________________\n",
      "Layer (type)                     Output Shape          Param #     Connected to                     \n",
      "====================================================================================================\n",
      "convolution1d_13 (Convolution1D) (None, 71, 95)        18145                                        \n",
      "____________________________________________________________________________________________________\n",
      "maxpooling1d_13 (MaxPooling1D)   (None, 17, 95)        0                                            \n",
      "____________________________________________________________________________________________________\n",
      "convolution1d_14 (Convolution1D) (None, 70, 95)        27170                                        \n",
      "____________________________________________________________________________________________________\n",
      "maxpooling1d_14 (MaxPooling1D)   (None, 17, 95)        0                                            \n",
      "____________________________________________________________________________________________________\n",
      "convolution1d_15 (Convolution1D) (None, 69, 95)        36195                                        \n",
      "____________________________________________________________________________________________________\n",
      "maxpooling1d_15 (MaxPooling1D)   (None, 17, 95)        0                                            \n",
      "____________________________________________________________________________________________________\n",
      "dropout_8 (Dropout)              (None, 17, 285)       0           merge_5[0][0]                    \n",
      "____________________________________________________________________________________________________\n",
      "gru_7 (GRU)                      (None, 72)            77328       dropout_8[0][0]                  \n",
      "____________________________________________________________________________________________________\n",
      "repeatvector_5 (RepeatVector)    (None, 26, 72)        0           gru_7[0][0]                      \n",
      "____________________________________________________________________________________________________\n",
      "gru_8 (GRU)                      (None, 26, 72)        31320       repeatvector_5[0][0]             \n",
      "____________________________________________________________________________________________________\n",
      "dropout_9 (Dropout)              (None, 26, 72)        0           gru_8[0][0]                      \n",
      "____________________________________________________________________________________________________\n",
      "timedistributed_4 (TimeDistribute(None, 26, 95)        6935        dropout_9[0][0]                  \n",
      "====================================================================================================\n",
      "Total params: 197093\n",
      "____________________________________________________________________________________________________\n"
     ]
    }
   ],
   "source": [
    "print('Build model...')\n",
    "\n",
    "filter_lengths = [2,3,4] # \"dd\" or \"mm-\" or \"/mm\" or \"GMT\" or \"yyyy\"  \n",
    "conv_filters = []\n",
    "\n",
    "for fl in filter_lengths:\n",
    "    conv_filters.append(Sequential())\n",
    "    conv_filters[-1].add(Convolution1D(nb_filter=len(ctable.chars),\n",
    "                        filter_length=fl,\n",
    "                        activation='relu',\n",
    "                        input_shape=(MAXLEN_X, len(ctable.chars)),\n",
    "                        subsample_length=1,\n",
    "                       ))\n",
    "    conv_filters[-1].add(MaxPooling1D(pool_length=4)) # was 68 \n",
    "\n",
    "\n",
    "model = Sequential()\n",
    "model.add(Merge(conv_filters, mode='concat'))\n",
    "model.add(Dropout(0.3))\n",
    "#model.add(Reshape((3,len(ctable.chars))))\n",
    "#model.add(MaxPooling1D(pool_length=MAXLEN_Y))\n",
    "model.add(recurrent.GRU(HIDDEN_SIZE, return_sequences=False))\n",
    "#model.add(Flatten())\n",
    "model.add(RepeatVector(MAXLEN_Y))\n",
    "model.add(recurrent.GRU(HIDDEN_SIZE, \n",
    "                          activation='relu',\n",
    "                          return_sequences=True,\n",
    "                       ))\n",
    "model.add(Dropout(0.3))\n",
    "# For each of step of the output sequence, decide which character should be chosen\n",
    "model.add(TimeDistributed(Dense(len(ctable.chars), \n",
    "                                activation='softmax')\n",
    "                         ))\n",
    "opt = Nadam(lr=0) # Using LR scheduler\n",
    "\n",
    "model.compile(loss='categorical_crossentropy',\n",
    "              optimizer=opt,\n",
    "              metrics=['accuracy'])\n",
    "\n",
    "model.summary()"
   ]
  },
  {
   "cell_type": "code",
   "execution_count": 31,
   "metadata": {
    "collapsed": false,
    "scrolled": false
   },
   "outputs": [
    {
     "name": "stderr",
     "output_type": "stream",
     "text": [
      "Learning rate adjusted: 0.003\n"
     ]
    },
    {
     "name": "stdout",
     "output_type": "stream",
     "text": [
      "Epoch 1/106\n",
      "77385/77385 [==============================] - 36s - loss: 2.9013 - acc: 0.1687 - val_loss: 2.3217 - val_acc: 0.2038\n",
      "Epoch 2/106\n",
      "77385/77385 [==============================] - 32s - loss: 2.4360 - acc: 0.2132 - val_loss: 2.1815 - val_acc: 0.2406\n",
      "Epoch 3/106\n",
      "77385/77385 [==============================] - 32s - loss: 2.1362 - acc: 0.2964 - val_loss: 1.5066 - val_acc: 0.4569\n",
      "Epoch 4/106\n",
      "77385/77385 [==============================] - 32s - loss: 1.5356 - acc: 0.4332 - val_loss: 2.1428 - val_acc: 0.3473\n",
      "Epoch 5/106\n",
      "77385/77385 [==============================] - 32s - loss: 1.9475 - acc: 0.3598 - val_loss: 1.3944 - val_acc: 0.4660\n",
      "Epoch 6/106\n",
      "77385/77385 [==============================] - 32s - loss: 1.4061 - acc: 0.4655 - val_loss: 1.2038 - val_acc: 0.5261\n",
      "Epoch 7/106\n",
      "77385/77385 [==============================] - 32s - loss: 1.2404 - acc: 0.5148 - val_loss: 1.1615 - val_acc: 0.5380\n",
      "Epoch 8/106\n",
      "77385/77385 [==============================] - 32s - loss: 1.2101 - acc: 0.5189 - val_loss: 1.1654 - val_acc: 0.5342\n",
      "Epoch 9/106\n",
      "77385/77385 [==============================] - 32s - loss: 1.1945 - acc: 0.5221 - val_loss: 1.1432 - val_acc: 0.5375\n",
      "Epoch 10/106\n",
      "77385/77385 [==============================] - 32s - loss: 1.1738 - acc: 0.5300 - val_loss: 1.1119 - val_acc: 0.5547\n",
      "Epoch 11/106\n",
      "77385/77385 [==============================] - 33s - loss: 1.1426 - acc: 0.5435 - val_loss: 2.3356 - val_acc: 0.4344\n",
      "Epoch 12/106\n",
      "77385/77385 [==============================] - 32s - loss: 1.2906 - acc: 0.5029 - val_loss: 1.0829 - val_acc: 0.5641\n",
      "Epoch 13/106\n",
      "77385/77385 [==============================] - 32s - loss: 1.1173 - acc: 0.5504 - val_loss: 1.0454 - val_acc: 0.5805\n",
      "Epoch 14/106\n",
      "77385/77385 [==============================] - 32s - loss: 1.0905 - acc: 0.5634 - val_loss: 1.0338 - val_acc: 0.5753\n",
      "Epoch 15/106\n",
      "77385/77385 [==============================] - 32s - loss: 1.0730 - acc: 0.5704 - val_loss: 1.0588 - val_acc: 0.5654\n",
      "Epoch 16/106\n",
      "77385/77385 [==============================] - 32s - loss: 1.5557 - acc: 0.4425 - val_loss: 1.2700 - val_acc: 0.4911\n",
      "Epoch 17/106\n",
      "77385/77385 [==============================] - 32s - loss: 1.1994 - acc: 0.5258 - val_loss: 1.0571 - val_acc: 0.5815\n",
      "Epoch 18/106\n",
      "77385/77385 [==============================] - 32s - loss: 1.0963 - acc: 0.5615 - val_loss: 1.0326 - val_acc: 0.5843\n",
      "Epoch 19/106\n",
      "77385/77385 [==============================] - 32s - loss: 1.0774 - acc: 0.5681 - val_loss: 1.0276 - val_acc: 0.5842\n",
      "Epoch 20/106\n",
      "77385/77385 [==============================] - 32s - loss: 1.0645 - acc: 0.5733 - val_loss: 1.0092 - val_acc: 0.5930\n",
      "Epoch 21/106\n",
      "77385/77385 [==============================] - 32s - loss: 1.0525 - acc: 0.5775 - val_loss: 0.9967 - val_acc: 0.6031\n",
      "Epoch 22/106\n",
      "77385/77385 [==============================] - 32s - loss: 1.0391 - acc: 0.5839 - val_loss: 0.9827 - val_acc: 0.6008\n",
      "Epoch 23/106\n",
      "77385/77385 [==============================] - 32s - loss: 1.0347 - acc: 0.5866 - val_loss: 0.9771 - val_acc: 0.6126\n",
      "Epoch 24/106\n",
      "77385/77385 [==============================] - 32s - loss: 1.0136 - acc: 0.5961 - val_loss: 0.9626 - val_acc: 0.6165\n",
      "Epoch 25/106\n",
      "77385/77385 [==============================] - 32s - loss: 0.9966 - acc: 0.6015 - val_loss: 0.9485 - val_acc: 0.6208\n",
      "Epoch 26/106\n",
      "77385/77385 [==============================] - 32s - loss: 0.9886 - acc: 0.6048 - val_loss: 0.9394 - val_acc: 0.6229\n",
      "Epoch 27/106\n",
      "77385/77385 [==============================] - 32s - loss: 0.9765 - acc: 0.6088 - val_loss: 0.9405 - val_acc: 0.6254\n",
      "Epoch 28/106\n",
      "77385/77385 [==============================] - 32s - loss: 0.9766 - acc: 0.6098 - val_loss: 0.9238 - val_acc: 0.6257\n",
      "Epoch 29/106\n",
      "77385/77385 [==============================] - 32s - loss: 0.9563 - acc: 0.6173 - val_loss: 0.9119 - val_acc: 0.6335\n",
      "Epoch 30/106\n",
      "77385/77385 [==============================] - 32s - loss: 0.9433 - acc: 0.6208 - val_loss: 0.8999 - val_acc: 0.6435\n",
      "Epoch 31/106\n",
      "77385/77385 [==============================] - 32s - loss: 0.9318 - acc: 0.6242 - val_loss: 0.8881 - val_acc: 0.6443\n",
      "Epoch 32/106\n",
      "77385/77385 [==============================] - 32s - loss: 0.9235 - acc: 0.6282 - val_loss: 0.8861 - val_acc: 0.6443\n",
      "Epoch 33/106\n",
      "77385/77385 [==============================] - 32s - loss: 0.9002 - acc: 0.6377 - val_loss: 0.8667 - val_acc: 0.6540\n",
      "Epoch 34/106\n"
     ]
    },
    {
     "name": "stderr",
     "output_type": "stream",
     "text": [
      "Learning rate adjusted: 0.0024000000000000002\n"
     ]
    },
    {
     "name": "stdout",
     "output_type": "stream",
     "text": [
      "77385/77385 [==============================] - 32s - loss: 1.3708 - acc: 0.5093 - val_loss: 1.0290 - val_acc: 0.6103\n",
      "Epoch 35/106\n",
      "77385/77385 [==============================] - 32s - loss: 1.0373 - acc: 0.5888 - val_loss: 0.9548 - val_acc: 0.6244\n",
      "Epoch 36/106\n",
      "77385/77385 [==============================] - 32s - loss: 0.9720 - acc: 0.6125 - val_loss: 0.9127 - val_acc: 0.6450\n",
      "Epoch 37/106\n",
      "77385/77385 [==============================] - 32s - loss: 0.9397 - acc: 0.6241 - val_loss: 0.8940 - val_acc: 0.6438\n",
      "Epoch 38/106\n",
      "77385/77385 [==============================] - 32s - loss: 0.9220 - acc: 0.6306 - val_loss: 0.8757 - val_acc: 0.6532\n",
      "Epoch 39/106\n",
      "77385/77385 [==============================] - 32s - loss: 0.9091 - acc: 0.6357 - val_loss: 0.8640 - val_acc: 0.6591\n",
      "Epoch 40/106\n",
      "77385/77385 [==============================] - 32s - loss: 0.8981 - acc: 0.6400 - val_loss: 0.8572 - val_acc: 0.6706\n",
      "Epoch 41/106\n",
      "77385/77385 [==============================] - 32s - loss: 0.8892 - acc: 0.6438 - val_loss: 0.8525 - val_acc: 0.6637\n",
      "Epoch 42/106\n",
      "77385/77385 [==============================] - 32s - loss: 0.8798 - acc: 0.6472 - val_loss: 0.8402 - val_acc: 0.6732\n",
      "Epoch 43/106\n",
      "77385/77385 [==============================] - 32s - loss: 0.8723 - acc: 0.6500 - val_loss: 0.8347 - val_acc: 0.6734\n",
      "Epoch 44/106\n",
      "77385/77385 [==============================] - 32s - loss: 0.8648 - acc: 0.6529 - val_loss: 0.8355 - val_acc: 0.6736\n",
      "Epoch 45/106\n",
      "77385/77385 [==============================] - 32s - loss: 0.8602 - acc: 0.6549 - val_loss: 0.8338 - val_acc: 0.6755\n",
      "Epoch 46/106\n",
      "77385/77385 [==============================] - 32s - loss: 0.8519 - acc: 0.6585 - val_loss: 0.8278 - val_acc: 0.6774\n",
      "Epoch 47/106\n",
      "77385/77385 [==============================] - 32s - loss: 0.8458 - acc: 0.6608 - val_loss: 0.8127 - val_acc: 0.6836\n",
      "Epoch 48/106\n",
      "77385/77385 [==============================] - 32s - loss: 0.8377 - acc: 0.6641 - val_loss: 0.8084 - val_acc: 0.6864\n",
      "Epoch 49/106\n",
      "77385/77385 [==============================] - 32s - loss: 0.8315 - acc: 0.6669 - val_loss: 0.8185 - val_acc: 0.6824\n",
      "Epoch 50/106\n",
      "77385/77385 [==============================] - 32s - loss: 0.8281 - acc: 0.6688 - val_loss: 0.8022 - val_acc: 0.6857\n",
      "Epoch 51/106\n",
      "77385/77385 [==============================] - 32s - loss: 0.8264 - acc: 0.6698 - val_loss: 0.7920 - val_acc: 0.6944\n",
      "Epoch 52/106\n",
      "77385/77385 [==============================] - 32s - loss: 0.8145 - acc: 0.6744 - val_loss: 0.7868 - val_acc: 0.6984\n",
      "Epoch 53/106\n",
      "77385/77385 [==============================] - 32s - loss: 0.8086 - acc: 0.6768 - val_loss: 0.7816 - val_acc: 0.6958\n",
      "Epoch 54/106\n",
      "77385/77385 [==============================] - 32s - loss: 0.8026 - acc: 0.6793 - val_loss: 0.7753 - val_acc: 0.7030\n",
      "Epoch 55/106\n",
      "77385/77385 [==============================] - 32s - loss: 0.7999 - acc: 0.6809 - val_loss: 0.7688 - val_acc: 0.7040\n",
      "Epoch 56/106\n",
      "77385/77385 [==============================] - 32s - loss: 0.7878 - acc: 0.6862 - val_loss: 0.7695 - val_acc: 0.7069\n",
      "Epoch 57/106\n",
      "77385/77385 [==============================] - 32s - loss: 0.7848 - acc: 0.6870 - val_loss: 0.7665 - val_acc: 0.7051\n",
      "Epoch 58/106\n",
      "77385/77385 [==============================] - 32s - loss: 0.7757 - acc: 0.6905 - val_loss: 0.7590 - val_acc: 0.7086\n",
      "Epoch 59/106\n",
      "77385/77385 [==============================] - 32s - loss: 0.7662 - acc: 0.6946 - val_loss: 0.7516 - val_acc: 0.7156\n",
      "Epoch 60/106\n",
      "77385/77385 [==============================] - 32s - loss: 0.7635 - acc: 0.6962 - val_loss: 0.7431 - val_acc: 0.7170\n",
      "Epoch 61/106\n",
      "77385/77385 [==============================] - 32s - loss: 0.7516 - acc: 0.7010 - val_loss: 0.7367 - val_acc: 0.7207\n",
      "Epoch 62/106\n",
      "77385/77385 [==============================] - 32s - loss: 0.7426 - acc: 0.7046 - val_loss: 0.7391 - val_acc: 0.7150\n",
      "Epoch 63/106\n",
      "77385/77385 [==============================] - 32s - loss: 0.7366 - acc: 0.7071 - val_loss: 0.7168 - val_acc: 0.7293\n",
      "Epoch 64/106\n",
      "77385/77385 [==============================] - 32s - loss: 0.7259 - acc: 0.7105 - val_loss: 0.7295 - val_acc: 0.7234\n",
      "Epoch 65/106\n",
      "77385/77385 [==============================] - 32s - loss: 0.7159 - acc: 0.7145 - val_loss: 0.7045 - val_acc: 0.7304\n",
      "Epoch 66/106\n",
      "77385/77385 [==============================] - 32s - loss: 0.7000 - acc: 0.7197 - val_loss: 0.6963 - val_acc: 0.7375\n",
      "Epoch 67/106\n"
     ]
    },
    {
     "name": "stderr",
     "output_type": "stream",
     "text": [
      "Learning rate adjusted: 0.0019200000000000005\n"
     ]
    },
    {
     "name": "stdout",
     "output_type": "stream",
     "text": [
      "77385/77385 [==============================] - 32s - loss: 0.6976 - acc: 0.7206 - val_loss: 0.6967 - val_acc: 0.7350\n",
      "Epoch 68/106\n",
      "77385/77385 [==============================] - 32s - loss: 0.6938 - acc: 0.7226 - val_loss: 0.6933 - val_acc: 0.7378\n",
      "Epoch 69/106\n",
      "77385/77385 [==============================] - 32s - loss: 0.6857 - acc: 0.7255 - val_loss: 0.6892 - val_acc: 0.7421\n",
      "Epoch 70/106\n",
      "77385/77385 [==============================] - 32s - loss: 0.6796 - acc: 0.7280 - val_loss: 0.6780 - val_acc: 0.7484\n",
      "Epoch 71/106\n",
      "77385/77385 [==============================] - 32s - loss: 0.6747 - acc: 0.7301 - val_loss: 0.6818 - val_acc: 0.7444\n",
      "Epoch 72/106\n",
      "77385/77385 [==============================] - 32s - loss: 0.6711 - acc: 0.7314 - val_loss: 0.6689 - val_acc: 0.7507\n",
      "Epoch 73/106\n",
      "77385/77385 [==============================] - 32s - loss: 0.6631 - acc: 0.7346 - val_loss: 0.6794 - val_acc: 0.7454\n",
      "Epoch 74/106\n",
      "77385/77385 [==============================] - 32s - loss: 0.6587 - acc: 0.7359 - val_loss: 0.6750 - val_acc: 0.7513\n",
      "Epoch 75/106\n",
      "77385/77385 [==============================] - 32s - loss: 0.6554 - acc: 0.7376 - val_loss: 0.6687 - val_acc: 0.7556\n",
      "Epoch 76/106\n",
      "77385/77385 [==============================] - 32s - loss: 0.6467 - acc: 0.7408 - val_loss: 0.6673 - val_acc: 0.7513\n",
      "Epoch 77/106\n",
      "77385/77385 [==============================] - 32s - loss: 0.6515 - acc: 0.7398 - val_loss: 0.6625 - val_acc: 0.7587\n",
      "Epoch 78/106\n",
      "77385/77385 [==============================] - 32s - loss: 0.6382 - acc: 0.7442 - val_loss: 0.6556 - val_acc: 0.7631\n",
      "Epoch 79/106\n",
      "77385/77385 [==============================] - 32s - loss: 0.6322 - acc: 0.7463 - val_loss: 0.6543 - val_acc: 0.7627\n",
      "Epoch 80/106\n",
      "77385/77385 [==============================] - 32s - loss: 0.6290 - acc: 0.7479 - val_loss: 0.6548 - val_acc: 0.7615\n",
      "Epoch 81/106\n",
      "77385/77385 [==============================] - 32s - loss: 0.6279 - acc: 0.7485 - val_loss: 0.6570 - val_acc: 0.7674\n",
      "Epoch 82/106\n",
      "77385/77385 [==============================] - 32s - loss: 0.6175 - acc: 0.7517 - val_loss: 0.6575 - val_acc: 0.7697\n",
      "Epoch 83/106\n",
      "77385/77385 [==============================] - 32s - loss: 0.6147 - acc: 0.7534 - val_loss: 0.6609 - val_acc: 0.7655\n",
      "Epoch 84/106\n",
      "77385/77385 [==============================] - 32s - loss: 0.6087 - acc: 0.7555 - val_loss: 0.6533 - val_acc: 0.7692\n",
      "Epoch 85/106\n",
      "77385/77385 [==============================] - 32s - loss: 0.6045 - acc: 0.7571 - val_loss: 0.6412 - val_acc: 0.7705\n",
      "Epoch 86/106\n",
      "77385/77385 [==============================] - 32s - loss: 0.5972 - acc: 0.7599 - val_loss: 0.6470 - val_acc: 0.7709\n",
      "Epoch 87/106\n",
      "77385/77385 [==============================] - 32s - loss: 0.5909 - acc: 0.7623 - val_loss: 0.6399 - val_acc: 0.7747\n",
      "Epoch 88/106\n",
      "77385/77385 [==============================] - 32s - loss: 0.5900 - acc: 0.7626 - val_loss: 0.6618 - val_acc: 0.7715\n",
      "Epoch 89/106\n",
      "77385/77385 [==============================] - 32s - loss: 0.5842 - acc: 0.7648 - val_loss: 0.6350 - val_acc: 0.7794\n",
      "Epoch 90/106\n",
      "77385/77385 [==============================] - 32s - loss: 0.5789 - acc: 0.7674 - val_loss: 0.6374 - val_acc: 0.7732\n",
      "Epoch 91/106\n",
      "77385/77385 [==============================] - 32s - loss: 0.5730 - acc: 0.7696 - val_loss: 0.6372 - val_acc: 0.7743\n",
      "Epoch 92/106\n",
      "77385/77385 [==============================] - 32s - loss: 0.5764 - acc: 0.7693 - val_loss: 0.6447 - val_acc: 0.7794\n",
      "Epoch 93/106\n",
      "77385/77385 [==============================] - 32s - loss: 0.5703 - acc: 0.7709 - val_loss: 0.6565 - val_acc: 0.7740\n",
      "Epoch 94/106\n",
      "77385/77385 [==============================] - 32s - loss: 0.5723 - acc: 0.7717 - val_loss: 0.6308 - val_acc: 0.7804\n",
      "Epoch 95/106\n",
      "77385/77385 [==============================] - 32s - loss: 0.5548 - acc: 0.7761 - val_loss: 0.6530 - val_acc: 0.7719\n",
      "Epoch 96/106\n",
      "77385/77385 [==============================] - 32s - loss: 0.5544 - acc: 0.7765 - val_loss: 0.6428 - val_acc: 0.7770\n",
      "Epoch 97/106\n",
      "77385/77385 [==============================] - 32s - loss: 0.5444 - acc: 0.7804 - val_loss: 0.6324 - val_acc: 0.7857\n",
      "Epoch 98/106\n",
      "77385/77385 [==============================] - 32s - loss: 0.5440 - acc: 0.7811 - val_loss: 0.6375 - val_acc: 0.7881\n",
      "Epoch 99/106\n",
      "77385/77385 [==============================] - 32s - loss: 0.5258 - acc: 0.7876 - val_loss: 0.6392 - val_acc: 0.7908\n",
      "Epoch 100/106\n"
     ]
    },
    {
     "name": "stderr",
     "output_type": "stream",
     "text": [
      "Learning rate adjusted: 0.0015360000000000005\n"
     ]
    },
    {
     "name": "stdout",
     "output_type": "stream",
     "text": [
      "77385/77385 [==============================] - 32s - loss: 0.5219 - acc: 0.7895 - val_loss: 0.6338 - val_acc: 0.7940\n",
      "Epoch 101/106\n",
      "77385/77385 [==============================] - 32s - loss: 0.5227 - acc: 0.7893 - val_loss: 0.6249 - val_acc: 0.7909\n",
      "Epoch 102/106\n",
      "77385/77385 [==============================] - 32s - loss: 0.5186 - acc: 0.7911 - val_loss: 0.6259 - val_acc: 0.7919\n",
      "Epoch 103/106\n",
      "77385/77385 [==============================] - 32s - loss: 0.5139 - acc: 0.7925 - val_loss: 0.6327 - val_acc: 0.7873\n",
      "Epoch 104/106\n",
      "77385/77385 [==============================] - 32s - loss: 0.5114 - acc: 0.7934 - val_loss: 0.6486 - val_acc: 0.7858\n",
      "Epoch 105/106\n",
      "77385/77385 [==============================] - 32s - loss: 0.5125 - acc: 0.7931 - val_loss: 0.6392 - val_acc: 0.7906\n",
      "Epoch 106/106\n",
      "77385/77385 [==============================] - 32s - loss: 0.5029 - acc: 0.7971 - val_loss: 0.6446 - val_acc: 0.7947\n",
      "Q July 30, 2051 at 1:39:04 AM EST                                         \n",
      "T 2051-07-30T01:39:04-05:45 \n",
      "\u001b[91m☒\u001b[0m 2051-07-30T01:09:07-05:40 \n",
      "Q March 28, 2008 at 7:46:12 AM EST                                        \n",
      "T 2008-03-28T07:46:12-05:39 \n",
      "\u001b[91m☒\u001b[0m 2008-03-28T08:48:02-05:40 \n",
      "Q January 14, 2015 at 7:17:50 PM EST                                      \n",
      "T 2015-01-14T19:17:50-04:56 \n",
      "\u001b[91m☒\u001b[0m 2015-01-15T19:19:51-05:45 \n",
      "Q 12August,2032 at 3:43:11 am AWST                                        \n",
      "T 2032-08-12T03:43:11+07:43 \n",
      "\u001b[91m☒\u001b[0m 2032-08-23T04:42:22+07:33 \n",
      "Q Tuesday, September 14, 2038 at 9:49:09 PM Alaska Standard Time          \n",
      "T 2038-09-14T21:49:09-10:00 \n",
      "\u001b[91m☒\u001b[0m 2038-09-15T21:57:38-10:00 \n"
     ]
    },
    {
     "data": {
      "image/png": "[encoded data removed]",
      "text/plain": [
       "<matplotlib.figure.Figure at 0x7f8ad22b4a58>"
      ]
     },
     "metadata": {},
     "output_type": "display_data"
    }
   ],
   "source": [
    "# Train the model each generation and show predictions against the validation dataset\n",
    "\n",
    "gen_dt_train = DateTimeFormattedGenerator(COUNTRY_CODES, TRAINING_SIZE, MAXLEN_X, MAXLEN_Y)\n",
    "gen_dt_val   = DateTimeFormattedGenerator(COUNTRY_CODES, VALIDATION_SIZE, MAXLEN_X, MAXLEN_Y)\n",
    "\n",
    "gen_vec_train      = DateTimeVectorGenerator(gen_dt_train, ctable, INVERT)\n",
    "gen_vec_validation = DateTimeVectorGenerator(gen_dt_val,   ctable, INVERT)\n",
    "\n",
    "learning_hist.append(\n",
    "        model.fit_generator( gen_vec_train, \n",
    "                            samples_per_epoch = 33 * TRAINING_SIZE,\n",
    "                            nb_epoch=EPOCHS, \n",
    "                            verbose=1, \n",
    "                            callbacks=callbacks_list, \n",
    "                            validation_data=gen_vec_validation, \n",
    "                            nb_val_samples=VALIDATION_SIZE, \n",
    "                            #class_weight={}, \n",
    "                            #max_q_size=10, \n",
    "                            #nb_worker=1, \n",
    "                            #pickle_safe=False\n",
    "                           )\n",
    "        )\n",
    "\n",
    "model.save('../models/datatime_conv_mkI.h5')\n",
    "\n",
    "for idx in range(5):\n",
    "    X_test, y_test = next(gen_vec_test)            \n",
    "    preds = model.predict(X_test, verbose=0)\n",
    "    i = random.randrange(len(preds))    \n",
    "    q = ctable.decode(X_test[0][i], MAXLEN_X)    \n",
    "    correct = ctable.decode(y_test[i], MAXLEN_Y)\n",
    "    guess = ctable.decode(preds[i], MAXLEN_Y)\n",
    "    print('Q', q[::-1] if INVERT else q )\n",
    "    print('T', correct)\n",
    "    print(colors.ok + '☑' + colors.close if correct == guess else colors.fail + '☒' + colors.close, guess)\n",
    "\n",
    "visualize_history(learning_hist)            "
   ]
  },
  {
   "cell_type": "code",
   "execution_count": null,
   "metadata": {
    "collapsed": false
   },
   "outputs": [],
   "source": [
    "MAXLEN_X - MAXLEN_Y"
   ]
  },
  {
   "cell_type": "markdown",
   "metadata": {},
   "source": [
    "<h1>Results</h1>"
   ]
  },
  {
   "cell_type": "markdown",
   "metadata": {
    "collapsed": true
   },
   "source": [
    "epochs_drop = 21.0, HIDDEN_SIZE=MAXLEN_X*1.7\n",
    "\n",
    "~~~\n",
    "Build model...\n",
    "____________________________________________________________________________________________________\n",
    "Layer (type)                     Output Shape          Param #     Connected to                     \n",
    "====================================================================================================\n",
    "locallyconnected1d_34 (LocallyCon(None, 71, 95)        1288295                                      \n",
    "____________________________________________________________________________________________________\n",
    "maxpooling1d_34 (MaxPooling1D)   (None, 1, 95)         0                                            \n",
    "____________________________________________________________________________________________________\n",
    "locallyconnected1d_35 (LocallyCon(None, 70, 95)        1901900                                      \n",
    "____________________________________________________________________________________________________\n",
    "maxpooling1d_35 (MaxPooling1D)   (None, 1, 95)         0                                            \n",
    "____________________________________________________________________________________________________\n",
    "locallyconnected1d_36 (LocallyCon(None, 69, 95)        2497455                                      \n",
    "____________________________________________________________________________________________________\n",
    "maxpooling1d_36 (MaxPooling1D)   (None, 1, 95)         0                                            \n",
    "____________________________________________________________________________________________________\n",
    "dropout_12 (Dropout)             (None, 1, 285)        0           merge_12[0][0]                   \n",
    "____________________________________________________________________________________________________\n",
    "flatten_2 (Flatten)              (None, 285)           0           dropout_12[0][0]                 \n",
    "____________________________________________________________________________________________________\n",
    "repeatvector_3 (RepeatVector)    (None, 26, 285)       0           flatten_2[0][0]                  \n",
    "____________________________________________________________________________________________________\n",
    "gru_1 (GRU)                      (None, 26, 123)       150921      repeatvector_3[0][0]             \n",
    "____________________________________________________________________________________________________\n",
    "timedistributed_2 (TimeDistribute(None, 26, 95)        11780       gru_1[0][0]                      \n",
    "====================================================================================================\n",
    "Total params: 5850351\n",
    "~~~\n",
    "\n",
    "~~~\n",
    "Epoch 100/106\n",
    "63315/63315 [==============================] - 27s - loss: 0.0616 - acc: 0.9792 - val_loss: 0.4262 - val_acc: 0.8948\n",
    "Epoch 101/106\n",
    "63315/63315 [==============================] - 27s - loss: 0.0596 - acc: 0.9800 - val_loss: 0.4343 - val_acc: 0.8958\n",
    "Epoch 102/106\n",
    "63315/63315 [==============================] - 27s - loss: 0.0584 - acc: 0.9805 - val_loss: 0.4297 - val_acc: 0.8930\n",
    "Epoch 103/106\n",
    "63315/63315 [==============================] - 27s - loss: 0.0613 - acc: 0.9792 - val_loss: 0.4249 - val_acc: 0.8950\n",
    "Epoch 104/106\n",
    "63315/63315 [==============================] - 27s - loss: 0.0565 - acc: 0.9812 - val_loss: 0.4280 - val_acc: 0.8953\n",
    "Epoch 105/106\n",
    "63315/63315 [==============================] - 27s - loss: 0.0544 - acc: 0.9820 - val_loss: 0.4303 - val_acc: 0.8948\n",
    "Epoch 106/106\n",
    "Learning rate adjusted: 0.0009830400000000003\n",
    "63315/63315 [==============================] - 27s - loss: 0.0544 - acc: 0.9819 - val_loss: 0.4337 - val_acc: 0.8951\n",
    "~~~"
   ]
  },
  {
   "cell_type": "code",
   "execution_count": 32,
   "metadata": {
    "collapsed": false
   },
   "outputs": [
    {
     "name": "stdout",
     "output_type": "stream",
     "text": [
      "Q Saturday, November 1, 1980 at 7:35:38 PM Alaska Standard Time           \n",
      "T 1980-11-01T19:35:38-09:19 \n",
      "\u001b[91m☒\u001b[0m 1980-11-12T18:38:38-09:30 \n",
      "Q Nov 28, 2089, 12:31:15 AM                                               \n",
      "T 2089-11-28T00:31:15-05:40 \n",
      "\u001b[91m☒\u001b[0m 2089-12-28T00:37:09-07:46 \n",
      "Q Monday 4 March 2080 at 05:10:35 Greenwich Mean Time                     \n",
      "T 2080-03-04T05:10:35-00:25 \n",
      "\u001b[91m☒\u001b[0m 2080-03-05T07:15:55-00:00 \n",
      "Q Nov 28, 2089, 12:31:15 AM                                               \n",
      "T 2089-11-28T00:31:15-05:40 \n",
      "\u001b[91m☒\u001b[0m 2089-12-28T00:37:09-07:46 \n",
      "Q September 23, 2064 at 6:58:39 PM CST                                    \n",
      "T 2064-09-23T18:58:39-06:46 \n",
      "\u001b[91m☒\u001b[0m 2064-09-23T18:57:58-05:46 \n",
      "Q 12Jan.,2057, 5:16:19 am                                                 \n",
      "T 2057-01-12T05:16:19+09:56 \n",
      "\u001b[91m☒\u001b[0m 2057-01-22T05:27:19+09:00 \n",
      "Q Jun 22, 2043, 8:58:58 AM                                                \n",
      "T 2043-06-22T08:58:58-05:46 \n",
      "\u001b[91m☒\u001b[0m 2043-06-22T08:56:46-05:40 \n",
      "Q 1/24/61, 9:54 PM                                                        \n",
      "T 2061-01-24T21:54:40-05:43 \n",
      "\u001b[91m☒\u001b[0m 2061-04-24T21:46:46-05:40 \n",
      "Q April 12, 2022 at 8:50:31 PM CST                                        \n",
      "T 2022-04-12T20:50:31-05:51 \n",
      "\u001b[91m☒\u001b[0m 2022-04-12T20:59:32-05:45 \n",
      "Q 3November,1996 at 9:00:01 pm AWST                                       \n",
      "T 1996-11-03T21:00:01+07:43 \n",
      "\u001b[91m☒\u001b[0m 1996-11-05T21:09:11+07:33 \n"
     ]
    }
   ],
   "source": [
    "X_test, y_test = next(gen_vec_validation)            \n",
    "preds = model.predict(X_test, verbose=0)\n",
    "for idx in range(10):\n",
    "    i = random.randrange(len(preds))    \n",
    "    q = ctable.decode(X_test[0][i], MAXLEN_X)    \n",
    "    correct = ctable.decode(y_test[i], MAXLEN_Y)\n",
    "    guess = ctable.decode(preds[i], MAXLEN_Y)\n",
    "    print('Q', q[::-1] if INVERT else q )\n",
    "    print('T', correct)\n",
    "    print(colors.ok + '☑' + colors.close if correct == guess else colors.fail + '☒' + colors.close, guess)"
   ]
  },
  {
   "cell_type": "code",
   "execution_count": 33,
   "metadata": {
    "collapsed": false
   },
   "outputs": [
    {
     "data": {
      "image/png": "[encoded data removed]",
      "text/plain": [
       "<matplotlib.figure.Figure at 0x7f8ad35a9f60>"
      ]
     },
     "metadata": {},
     "output_type": "display_data"
    }
   ],
   "source": [
    "plt.figure(figsize=(12, 6))\n",
    "discard = int(math.ceil(len(learning_hist)/100))*1\n",
    "# skip the first few, they destroy plot scale\n",
    "plt.plot([i for i in learning_hist[-1].history['loss'][discard:]], label='loss')\n",
    "plt.plot([i for i in learning_hist[-1].history['val_loss'][discard:]], label='val_loss')\n",
    "\n",
    "plt.ylabel('error')\n",
    "plt.xlabel('iteration')\n",
    "plt.legend()\n",
    "#plt.ylim([0, 0.005])\n",
    "plt.title('training error')\n",
    "plt.show()"
   ]
  },
  {
   "cell_type": "code",
   "execution_count": 34,
   "metadata": {
    "collapsed": false
   },
   "outputs": [
    {
     "data": {
      "image/png": "[encoded data removed]",
      "text/plain": [
       "<matplotlib.figure.Figure at 0x7f8aa59632e8>"
      ]
     },
     "metadata": {},
     "output_type": "display_data"
    }
   ],
   "source": [
    "plt.figure(figsize=(12, 6))\n",
    "discard = int(math.ceil(len(learning_hist)/100))*1\n",
    "# skip the first few, they destroy plot scale\n",
    "plt.plot([i for i in learning_hist[-1].history['acc'][discard:]], label='acc')\n",
    "plt.plot([i for i in learning_hist[-1].history['val_acc'][discard:]], label='val_acc')\n",
    "\n",
    "plt.ylabel('accuracy')\n",
    "plt.xlabel('iteration')\n",
    "plt.legend()\n",
    "#plt.ylim([0, 0.005])\n",
    "plt.title('training accuracy')\n",
    "plt.show()"
   ]
  },
  {
   "cell_type": "code",
   "execution_count": null,
   "metadata": {
    "collapsed": false
   },
   "outputs": [],
   "source": [
    "#len(learning_hist[0].history['loss'])"
   ]
  },
  {
   "cell_type": "code",
   "execution_count": null,
   "metadata": {
    "collapsed": true
   },
   "outputs": [],
   "source": [
    "#model.save('../models/datatime_autoencoder_model.h5')"
   ]
  },
  {
   "cell_type": "code",
   "execution_count": null,
   "metadata": {
    "collapsed": false
   },
   "outputs": [],
   "source": [
    "next(gen_dt)"
   ]
  },
  {
   "cell_type": "code",
   "execution_count": null,
   "metadata": {
    "collapsed": false
   },
   "outputs": [],
   "source": [
    "#model.load_weights('../models/datatime_conv_mkI.h5')"
   ]
  },
  {
   "cell_type": "code",
   "execution_count": null,
   "metadata": {
    "collapsed": false
   },
   "outputs": [],
   "source": [
    "!! ls ../models/\n"
   ]
  },
  {
   "cell_type": "code",
   "execution_count": null,
   "metadata": {
    "collapsed": false
   },
   "outputs": [],
   "source": [
    "72/3"
   ]
  },
  {
   "cell_type": "code",
   "execution_count": null,
   "metadata": {
    "collapsed": true
   },
   "outputs": [],
   "source": []
  }
 ],
 "metadata": {
  "kernelspec": {
   "display_name": "Python 3",
   "language": "python",
   "name": "python3"
  },
  "language_info": {
   "codemirror_mode": {
    "name": "ipython",
    "version": 3
   },
   "file_extension": ".py",
   "mimetype": "text/x-python",
   "name": "python",
   "nbconvert_exporter": "python",
   "pygments_lexer": "ipython3",
   "version": "3.4.3"
  }
 },
 "nbformat": 4,
 "nbformat_minor": 1
}
