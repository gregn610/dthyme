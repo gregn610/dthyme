{
 "cells": [
  {
   "cell_type": "markdown",
   "metadata": {},
   "source": [
    "<h1>Datetime recognizer</h1>\n",
    "Train a model to recognize any datetimes in a given text string. \n",
    "\n",
    "Start with simple iso8601s and then progress to locales, timezones, countries & conventions.\n",
    "\n",
    "\n",
    "Starting from the Keras autoencoder example."
   ]
  },
  {
   "cell_type": "code",
   "execution_count": 1,
   "metadata": {
    "collapsed": true
   },
   "outputs": [],
   "source": [
    "import os\n",
    "\n",
    "os.environ['KERAS_BACKEND'] = 'tensorflow'\n",
    "os.environ['LD_LIBRARY_PATH'] = '/usr/local/cuda/lib64'\n",
    "os.environ['CUDA_HOME'] = '/usr/local/cuda'"
   ]
  },
  {
   "cell_type": "code",
   "execution_count": 2,
   "metadata": {
    "collapsed": false
   },
   "outputs": [
    {
     "name": "stderr",
     "output_type": "stream",
     "text": [
      "Using TensorFlow backend.\n"
     ]
    }
   ],
   "source": [
    "# -*- coding: utf-8 -*-\n",
    "'''An implementation of sequence to sequence learning to decode localized datetimes from strings\n",
    "Input: \"Monday 31 December 2007 07:07:07.0000000 +02:00 CET/Europe\"\n",
    "or\n",
    "       \"Monday, 24 October 1977 at 09:10:55 Greenwich Mean Time\"\n",
    "Output: \"2007-12-31T07:07:07.00000+02:00\"\n",
    "Padding is handled by using a repeated sentinel character (space)\n",
    "\n",
    "\n",
    "Input may optionally be inverted, shown to increase performance in many tasks in:\n",
    "\"Learning to Execute\"\n",
    "http://arxiv.org/abs/1410.4615\n",
    "and\n",
    "\"Sequence to Sequence Learning with Neural Networks\"\n",
    "http://papers.nips.cc/paper/5346-sequence-to-sequence-learning-with-neural-networks.pdf\n",
    "Theoretically it introduces shorter term dependencies between source and target.\n",
    "\n",
    "'''\n",
    "from keras.models import Sequential\n",
    "from keras.engine.training import slice_X\n",
    "from keras.layers import Activation, TimeDistributed, Dense, RepeatVector, recurrent, Dropout, Flatten, Embedding ,Merge\n",
    "from keras.layers.convolutional import Convolution1D, Cropping1D, UpSampling1D, Convolution2D\n",
    "from keras.layers.pooling import MaxPooling1D\n",
    "from keras.layers.local import LocallyConnected1D\n",
    "from keras.optimizers import Adam, SGD, RMSprop, Nadam\n",
    "from keras.callbacks import LearningRateScheduler, ModelCheckpoint, EarlyStopping\n",
    "from keras.layers.wrappers import Bidirectional\n",
    "from keras.layers.core import Reshape\n",
    "#from keras.callbacks import ReduceLROnPlateau\n",
    "import numpy as np\n",
    "from six.moves import range\n",
    "import pytz\n",
    "from datetime import datetime, timezone\n",
    "import itertools\n",
    "import random\n",
    "from babel import Locale, localedata, UnknownLocaleError\n",
    "from babel.dates import format_datetime\n",
    "from tqdm import tqdm\n",
    "import sys\n",
    "import string\n",
    "import math"
   ]
  },
  {
   "cell_type": "code",
   "execution_count": 3,
   "metadata": {
    "collapsed": true
   },
   "outputs": [],
   "source": [
    "import matplotlib.pyplot as plt\n",
    "import math"
   ]
  },
  {
   "cell_type": "code",
   "execution_count": 4,
   "metadata": {
    "collapsed": true
   },
   "outputs": [],
   "source": [
    "%matplotlib inline"
   ]
  },
  {
   "cell_type": "code",
   "execution_count": 5,
   "metadata": {
    "collapsed": true
   },
   "outputs": [],
   "source": [
    "class CharacterTable(object):\n",
    "    '''\n",
    "    Given a set of characters:\n",
    "    + Encode them to a one hot integer representation\n",
    "    + Decode the one hot integer representation to their character output\n",
    "    + Decode a vector of probabilities to their character output\n",
    "    '''\n",
    "    def __init__(self, country_codes, maxlen):\n",
    "        self.chars = set(string.ascii_letters + \n",
    "                         string.punctuation + \n",
    "                         string.digits\n",
    "                        )\n",
    "\n",
    "        ts_from = int(datetime(1980, 1, 1, tzinfo=timezone.utc).timestamp())\n",
    "        ts_to   = int(datetime(1981, 1, 1, tzinfo=timezone.utc).timestamp())\n",
    "        tstamps = [t for t in range(ts_from, ts_to, 60*1000)]\n",
    "        retries = 0\n",
    "        \n",
    "        #Hoover up all the non-ascii characters that might be needed\n",
    "        for country_code in tqdm(country_codes):\n",
    "            try:                            \n",
    "                if pytz.country_timezones.get(country_code):\n",
    "                    for ctzone in pytz.country_timezones(country_code):\n",
    "                        tzone = pytz.timezone(ctzone)\n",
    "                        country_locale = Locale.parse('und_' + country_code)\n",
    "                        for fmt  in ['short','medium','long','full']:\n",
    "                            ydts = [datetime.utcfromtimestamp(t).replace(tzinfo=tzone) for t in tstamps]\n",
    "                            if random.choice([True, False]):\n",
    "                                X = [format_datetime(dt, format=fmt, locale=country_locale) for dt in ydts]\n",
    "                            else:\n",
    "                                sep = random.choice([' ','T'])\n",
    "                                X = [dt.isoformat(sep) for dt in ydts]\n",
    "\n",
    "                            # So that's a years worth of datetimes for all the countrys & locales & timezones \n",
    "                            for ln in X:\n",
    "                                # Going with case sensitive because some dt formats have an \"i\"\n",
    "                                self.chars = self.chars.union( set(iter(ln)))\n",
    "                                \n",
    "            except UnknownLocaleError:\n",
    "                print('UnknownLocaleError: %s'%'und_' + country_code, file=sys.stderr)\n",
    "                retries += 1\n",
    "                if retries >=21:\n",
    "                    raise # Somethings gone wrong!\n",
    "\n",
    "        self.chars = sorted(self.chars)\n",
    "\n",
    "        self.char_indices = dict((c, i) for i, c in enumerate(self.chars))\n",
    "        self.indices_char = dict((i, c) for i, c in enumerate(self.chars))\n",
    "        self.maxlen = maxlen\n",
    "\n",
    "    def encode(self, sentence, maxlen=None):\n",
    "        maxlen = maxlen if maxlen else self.maxlen\n",
    "        chunk_size = len(self.chars)\n",
    "        X = np.zeros((maxlen, chunk_size))\n",
    "        for idx, c in enumerate(sentence[:maxlen]):\n",
    "            X[idx, self.char_indices[c]] = 1\n",
    "        return X\n",
    "\n",
    "    def decode(self, X, maxlen=None):\n",
    "        maxlen = maxlen if maxlen else self.maxlen\n",
    "        ret = []\n",
    "        chunk_size = len(self.chars)\n",
    "        for idx in range(maxlen):\n",
    "            retidx = X[idx,:].argmax(axis=-1)\n",
    "            ret.append(self.indices_char[retidx])\n",
    "        return ''.join(ret)\n"
   ]
  },
  {
   "cell_type": "code",
   "execution_count": 6,
   "metadata": {
    "collapsed": false
   },
   "outputs": [
    {
     "name": "stderr",
     "output_type": "stream",
     "text": [
      "100%|██████████| 1/1 [00:00<00:00,  6.49it/s]"
     ]
    },
    {
     "name": "stdout",
     "output_type": "stream",
     "text": [
      "Encoded.shape: (58, 95)\n",
      "Decoded: Monday 21st 1998-01-11 +GMT                               \n"
     ]
    },
    {
     "name": "stderr",
     "output_type": "stream",
     "text": [
      "\n"
     ]
    }
   ],
   "source": [
    "TESTSTRING = 'Monday 21st 1998-01-11 +GMT'\n",
    "ctable = CharacterTable(['GB',], len(\"Monday 31 December 2007 07:07:07.0000000 +02:00 CET/Europe\"))\n",
    "xxx = ctable.encode(TESTSTRING)\n",
    "yyy = ctable.decode(xxx)\n",
    "print('Encoded.shape: %s' % str(xxx.shape))\n",
    "print('Decoded: %s' % yyy)\n",
    "assert(yyy.strip() == TESTSTRING)\n"
   ]
  },
  {
   "cell_type": "code",
   "execution_count": 7,
   "metadata": {
    "collapsed": true
   },
   "outputs": [],
   "source": [
    "class colors:\n",
    "    ok = '\\033[92m'\n",
    "    fail = '\\033[91m'\n",
    "    close = '\\033[0m'"
   ]
  },
  {
   "cell_type": "code",
   "execution_count": 8,
   "metadata": {
    "collapsed": true
   },
   "outputs": [],
   "source": [
    "def DateTimeDataGenerator(sample_size):   \n",
    "    while True:        \n",
    "        # 0xFFFFFFFF 32 bit unsigned max 2106\n",
    "        # 0x7FFFFFFF 32 bit   signed max 2038\n",
    "        tstamps = [random.randrange(0xFFFFFFFF) for _ in range(sample_size)]\n",
    "\n",
    "        yield tstamps\n"
   ]
  },
  {
   "cell_type": "code",
   "execution_count": 9,
   "metadata": {
    "collapsed": false
   },
   "outputs": [],
   "source": [
    "def DateTimeFormattedGenerator(country_codes, sample_size, maxlen_x, maxlen_y):\n",
    "    dtdg = DateTimeDataGenerator(sample_size)\n",
    "    all_locales = localedata.locale_identifiers()\n",
    "    limit          = 8\n",
    "    locale_choices = []\n",
    "    retries        = 0\n",
    "    \n",
    "    # Gather country and timezone options\n",
    "    for country_code in country_codes:\n",
    "        try:                            \n",
    "            if pytz.country_timezones.get(country_code):\n",
    "                for ctzone in pytz.country_timezones(country_code):\n",
    "                    tzone = pytz.timezone(ctzone)\n",
    "                    country_locale = Locale.parse('und_' + country_code)\n",
    "                    for fmt  in ['short','medium','long','full']:\n",
    "                        locale_choices.append({'country_code': country_code,\n",
    "                                               'timezone'    : tzone,\n",
    "                                               'format'      : fmt,\n",
    "                                               'locale'      : country_locale\n",
    "                                              })\n",
    "        except UnknownLocaleError:\n",
    "            print('UnknownLocaleError: %s'%'und_' + country_code, file=sys.stderr)\n",
    "            retries += 1\n",
    "            if retries >= 21:\n",
    "                raise\n",
    "    \n",
    "    locale_choices = (locale_choices * math.ceil(sample_size/len(locale_choices)))[:sample_size]\n",
    "    random.shuffle(locale_choices)\n",
    "    \n",
    "    while True:        \n",
    "        # 0xFFFFFFFF 32 bit unsigned max 2106\n",
    "        # 0x7FFFFFFF 32 bit   signed max 2038\n",
    "        tstamps = next(dtdg)\n",
    "        \n",
    "        ydts  = [ datetime.utcfromtimestamp(t).replace(tzinfo=locale_choices[idx]['timezone']).isoformat('T') \n",
    "                  for idx, t in enumerate(tstamps)]        \n",
    "        X = [format_datetime(datetime.utcfromtimestamp(t).replace(\n",
    "                     tzinfo=locale_choices[idx]['timezone']), \n",
    "                     format=locale_choices[idx]['format'], \n",
    "                     locale=locale_choices[idx]['locale']\n",
    "                     ) \n",
    "             for idx, t in enumerate(tstamps)]\n",
    "\n",
    "        # pad or chop to length\n",
    "        X    = [(pp + (' '*maxlen_x))[:maxlen_x] for pp in X]\n",
    "        ydts = [(pp + (' '*maxlen_y))[:maxlen_y] for pp in ydts]\n",
    "            \n",
    "        yield (X, ydts)"
   ]
  },
  {
   "cell_type": "code",
   "execution_count": 23,
   "metadata": {
    "collapsed": false
   },
   "outputs": [],
   "source": [
    "MAXLEN_X = 72 # longer than anything expected like 'Monday 31 December 2000 07:07:07.0000000 +02:00 CET/Europe'\n",
    "MAXLEN_Y = MAXLEN_X # It's 0 padded anyway #len(datetime.now().isoformat(' '))\n",
    "\n",
    "def DateTimeVectorGenerator(dt_generator, ctable, invert):    \n",
    "    \"\"\"\n",
    "    Returns: x_batch [batch_size, n_timesteps, vocab_size] \n",
    "             y_batch [batch_size, n_categories]\n",
    "    \"\"\"\n",
    "    X_next, y_next = next(dt_generator)\n",
    "    while True:\n",
    "        # X_next are all the same MAXLEN_X length. Same for y_next\n",
    "        X = np.zeros((len(X_next), MAXLEN_X, CHARSET_LEN), dtype=np.bool)\n",
    "        y = np.zeros((len(y_next), MAXLEN_Y, CHARSET_LEN), dtype=np.bool)\n",
    "        \n",
    "        for idx, sentence in enumerate(X_next):\n",
    "            X[idx] = np.flipud(ctable.encode(sentence, MAXLEN_X)) if invert else ctable.encode(sentence, MAXLEN_X)\n",
    "            \n",
    "        for idx, sentence in enumerate(y_next):\n",
    "            y[idx] = ctable.encode(sentence, MAXLEN_Y)\n",
    "    \n",
    "        yield [X, X, X, X], y"
   ]
  },
  {
   "cell_type": "code",
   "execution_count": 24,
   "metadata": {
    "collapsed": true
   },
   "outputs": [],
   "source": [
    "def visualize_history(learning_hist, data_filename=None):    \n",
    "    plt.figure(figsize=(12, 6))\n",
    "    discard = int(math.ceil(len(learning_hist)/100))*20\n",
    "    # skip the first few, they destroy plot scale\n",
    "    plt.plot([i for i in learning_hist[-1].history['loss'][discard:]], label='loss')\n",
    "    plt.plot([i for i in learning_hist[-1].history['val_loss'][discard:]], label='val_loss')\n",
    "\n",
    "    plt.ylabel('error')\n",
    "    plt.xlabel('iteration')\n",
    "    plt.legend()\n",
    "    #plt.ylim([0, 0.005])\n",
    "    plt.title('training error')\n",
    "    if (data_filename is not None):\n",
    "        plt.savefig(data_filename)\n",
    "        plt.close()\n",
    "    else:\n",
    "        plt.show()"
   ]
  },
  {
   "cell_type": "code",
   "execution_count": 25,
   "metadata": {
    "collapsed": false
   },
   "outputs": [],
   "source": [
    "# learning rate schedule\n",
    "def step_decay(epoch):\n",
    "    initial_lrate = 0.003 #0.0016875 #0.000533935546875 #0.003\n",
    "    drop = 0.80 #0.75\n",
    "    epochs_drop = 33.0        \n",
    "    lrate = initial_lrate * math.pow(drop, math.floor((1+epoch)/epochs_drop))    \n",
    "    \n",
    "    if not epoch % epochs_drop:\n",
    "        print('Learning rate adjusted: {}'.format(lrate), file=sys.stderr)\n",
    "    \n",
    "    return lrate"
   ]
  },
  {
   "cell_type": "code",
   "execution_count": 26,
   "metadata": {
    "collapsed": false
   },
   "outputs": [],
   "source": [
    "# Parameters for the model and dataset\n",
    "TRAINING_SIZE   = 3456 #tuned to avoid ResourceExhaustedError: OOM when allocating tensor with shape\n",
    "VALIDATION_SIZE = 345\n",
    "INVERT = True\n",
    "# Try replacing GRU, LSTM or SimpleRNN\n",
    "RNN = recurrent.GRU\n",
    "BATCH_SIZE = 128\n",
    "LAYERS = 4\n",
    "\n",
    "# pytz.country_names.keys()\n",
    "COUNTRY_CODES = ['GB', 'US', 'IE', 'AU', ] #'DE','FR','ES','IT','CA', 'NO','SE','DK','FI','EE','CZ','PL'] \n",
    "EPOCHS=101\n",
    "HIDDEN_SIZE = math.ceil(MAXLEN_X * 1.5) # GRU #9 - SimpleRNN to 80%acc\n",
    "\n",
    "\n"
   ]
  },
  {
   "cell_type": "code",
   "execution_count": null,
   "metadata": {
    "collapsed": false
   },
   "outputs": [],
   "source": []
  },
  {
   "cell_type": "code",
   "execution_count": 27,
   "metadata": {
    "collapsed": false
   },
   "outputs": [
    {
     "name": "stderr",
     "output_type": "stream",
     "text": [
      "100%|██████████| 4/4 [00:05<00:00,  1.08s/it]\n"
     ]
    }
   ],
   "source": [
    "ctable = CharacterTable(COUNTRY_CODES, MAXLEN_X)\n",
    "CHARSET_LEN = len(ctable.chars)"
   ]
  },
  {
   "cell_type": "code",
   "execution_count": 28,
   "metadata": {
    "collapsed": false,
    "scrolled": true
   },
   "outputs": [
    {
     "name": "stdout",
     "output_type": "stream",
     "text": [
      "X_train[0].shape: (3456, 72, 95)\n",
      "y_train.shape: (3456, 72, 95)\n"
     ]
    }
   ],
   "source": [
    "#gen_dt = DateTimeIsoGenerator(COUNTRY_CODES, TRAINING_SIZE, MAXLEN_X, MAXLEN_Y)\n",
    "gen_dt = DateTimeFormattedGenerator(COUNTRY_CODES, TRAINING_SIZE, MAXLEN_X, MAXLEN_Y)\n",
    "\n",
    "gen_vec_train      = DateTimeVectorGenerator(gen_dt, ctable, INVERT)\n",
    "gen_vec_validation = DateTimeVectorGenerator(gen_dt, ctable, INVERT)\n",
    "\n",
    "X_train, y_train = next(gen_vec_train)\n",
    "print('X_train[0].shape: %s'%str(X_train[0].shape))\n",
    "print('y_train.shape: %s'%str(y_train.shape))"
   ]
  },
  {
   "cell_type": "code",
   "execution_count": 29,
   "metadata": {
    "collapsed": false
   },
   "outputs": [
    {
     "name": "stdout",
     "output_type": "stream",
     "text": [
      "X_test[0].shape:(3456, 72, 95) \n",
      "y_test.shape: (3456, 72, 95)\n"
     ]
    }
   ],
   "source": [
    "#gen_dt_test = DateTimeIsoGenerator(COUNTRY_CODES, TRAINING_SIZE, MAXLEN_X, MAXLEN_Y)\n",
    "gen_dt_test = DateTimeFormattedGenerator(COUNTRY_CODES, TRAINING_SIZE, MAXLEN_X, MAXLEN_Y)\n",
    "\n",
    "gen_vec_test = DateTimeVectorGenerator(gen_dt_test, ctable, INVERT)\n",
    "\n",
    "X_test, y_test = next(gen_vec_test)\n",
    "print('X_test[0].shape:%s \\ny_test.shape: %s' % (str(X_test[0].shape), str(y_test.shape)))"
   ]
  },
  {
   "cell_type": "code",
   "execution_count": 30,
   "metadata": {
    "collapsed": false
   },
   "outputs": [],
   "source": [
    "stopper = EarlyStopping(patience=25, \n",
    "                        verbose=1, \n",
    "                        mode='auto')"
   ]
  },
  {
   "cell_type": "code",
   "execution_count": 31,
   "metadata": {
    "collapsed": true
   },
   "outputs": [],
   "source": [
    "checkpointer = ModelCheckpoint('../models/checkpoint.{epoch:02d}-{val_loss:.2f}.hdf5', \n",
    "                             monitor='val_loss', \n",
    "                             verbose=1, \n",
    "                             save_best_only=True, \n",
    "                             save_weights_only=False, \n",
    "                             mode='auto')"
   ]
  },
  {
   "cell_type": "code",
   "execution_count": 32,
   "metadata": {
    "collapsed": true
   },
   "outputs": [],
   "source": [
    "learning_hist = []"
   ]
  },
  {
   "cell_type": "code",
   "execution_count": 33,
   "metadata": {
    "collapsed": true
   },
   "outputs": [],
   "source": [
    "# learning schedule callback\n",
    "lrate = LearningRateScheduler(step_decay)\n",
    "callbacks_list = [lrate, ]"
   ]
  },
  {
   "cell_type": "code",
   "execution_count": 34,
   "metadata": {
    "collapsed": false
   },
   "outputs": [
    {
     "name": "stdout",
     "output_type": "stream",
     "text": [
      "Build model...\n",
      "____________________________________________________________________________________________________\n",
      "Layer (type)                     Output Shape          Param #     Connected to                     \n",
      "====================================================================================================\n",
      "convolution1d_5 (Convolution1D)  (None, 71, 95)        18145                                        \n",
      "____________________________________________________________________________________________________\n",
      "maxpooling1d_5 (MaxPooling1D)    (None, 1, 95)         0                                            \n",
      "____________________________________________________________________________________________________\n",
      "convolution1d_6 (Convolution1D)  (None, 70, 95)        27170                                        \n",
      "____________________________________________________________________________________________________\n",
      "maxpooling1d_6 (MaxPooling1D)    (None, 1, 95)         0                                            \n",
      "____________________________________________________________________________________________________\n",
      "convolution1d_7 (Convolution1D)  (None, 69, 95)        36195                                        \n",
      "____________________________________________________________________________________________________\n",
      "maxpooling1d_7 (MaxPooling1D)    (None, 1, 95)         0                                            \n",
      "____________________________________________________________________________________________________\n",
      "convolution1d_8 (Convolution1D)  (None, 68, 95)        45220                                        \n",
      "____________________________________________________________________________________________________\n",
      "maxpooling1d_8 (MaxPooling1D)    (None, 1, 95)         0                                            \n",
      "____________________________________________________________________________________________________\n",
      "dropout_3 (Dropout)              (None, 1, 380)        0           merge_2[0][0]                    \n",
      "____________________________________________________________________________________________________\n",
      "flatten_2 (Flatten)              (None, 380)           0           dropout_3[0][0]                  \n",
      "____________________________________________________________________________________________________\n",
      "repeatvector_2 (RepeatVector)    (None, 72, 380)       0           flatten_2[0][0]                  \n",
      "____________________________________________________________________________________________________\n",
      "gru_2 (GRU)                      (None, 72, 108)       158436      repeatvector_2[0][0]             \n",
      "____________________________________________________________________________________________________\n",
      "dropout_4 (Dropout)              (None, 72, 108)       0           gru_2[0][0]                      \n",
      "____________________________________________________________________________________________________\n",
      "timedistributed_2 (TimeDistribute(None, 72, 95)        10355       dropout_4[0][0]                  \n",
      "====================================================================================================\n",
      "Total params: 295521\n",
      "____________________________________________________________________________________________________\n"
     ]
    }
   ],
   "source": [
    "print('Build model...')\n",
    "\n",
    "filter_lengths = [2,3,4,5] # \"dd\" or \"mm-\" or \"/mm\" or \"GMT\" or \"yyyy\"  \n",
    "conv_filters = []\n",
    "\n",
    "for fl in filter_lengths:\n",
    "    conv_filters.append(Sequential())\n",
    "    conv_filters[-1].add(Convolution1D(nb_filter=CHARSET_LEN,\n",
    "                        filter_length=fl,\n",
    "                        activation='relu',\n",
    "                        input_shape=(MAXLEN_X, CHARSET_LEN),\n",
    "                        subsample_length=1,\n",
    "                       ))\n",
    "    conv_filters[-1].add(MaxPooling1D(pool_length=68)) # was 68 \n",
    "\n",
    "\n",
    "model = Sequential()\n",
    "model.add(Merge(conv_filters, mode='concat'))\n",
    "model.add(Dropout(0.33333))\n",
    "#model.add(Reshape((3,CHARSET_LEN)))\n",
    "#model.add(MaxPooling1D(pool_length=MAXLEN_Y))\n",
    "#model.add(recurrent.GRU(HIDDEN_SIZE, return_sequences=False))\n",
    "model.add(Flatten())\n",
    "model.add(RepeatVector(MAXLEN_X))\n",
    "model.add(recurrent.GRU(HIDDEN_SIZE, \n",
    "                          activation='relu',\n",
    "                          return_sequences=True,\n",
    "                       ))\n",
    "model.add(Dropout(0.333333))\n",
    "# For each of step of the output sequence, decide which character should be chosen\n",
    "model.add(TimeDistributed(Dense(CHARSET_LEN, \n",
    "                                activation='softmax')\n",
    "                         ))\n",
    "opt = Nadam(lr=0) # Using LR scheduler\n",
    "\n",
    "model.compile(loss='categorical_crossentropy',\n",
    "              optimizer=opt,\n",
    "              metrics=['accuracy'])\n",
    "\n",
    "model.summary()"
   ]
  },
  {
   "cell_type": "code",
   "execution_count": 35,
   "metadata": {
    "collapsed": false,
    "scrolled": false
   },
   "outputs": [
    {
     "name": "stderr",
     "output_type": "stream",
     "text": [
      "Learning rate adjusted: 0.003\n"
     ]
    },
    {
     "name": "stdout",
     "output_type": "stream",
     "text": [
      "Epoch 1/101\n",
      "114048/114048 [==============================] - 114s - loss: 1.6399 - acc: 0.6390 - val_loss: 1.2678 - val_acc: 0.6887\n",
      "Epoch 2/101\n",
      "114048/114048 [==============================] - 75s - loss: 1.1122 - acc: 0.6943 - val_loss: 0.8827 - val_acc: 0.7097\n",
      "Epoch 3/101\n",
      "114048/114048 [==============================] - 75s - loss: 0.9455 - acc: 0.7137 - val_loss: 0.8307 - val_acc: 0.7442\n",
      "Epoch 4/101\n",
      "114048/114048 [==============================] - 75s - loss: 1.1069 - acc: 0.6789 - val_loss: 0.9805 - val_acc: 0.6818\n",
      "Epoch 5/101\n",
      "114048/114048 [==============================] - 74s - loss: 0.9361 - acc: 0.7100 - val_loss: 0.8931 - val_acc: 0.7261\n",
      "Epoch 6/101\n",
      "114048/114048 [==============================] - 74s - loss: 0.8483 - acc: 0.7295 - val_loss: 0.7685 - val_acc: 0.7506\n",
      "Epoch 7/101\n",
      "114048/114048 [==============================] - 74s - loss: 0.8008 - acc: 0.7413 - val_loss: 0.7925 - val_acc: 0.7592\n",
      "Epoch 8/101\n",
      "114048/114048 [==============================] - 74s - loss: 0.7631 - acc: 0.7538 - val_loss: 0.7221 - val_acc: 0.7767\n",
      "Epoch 9/101\n",
      "114048/114048 [==============================] - 74s - loss: 0.7267 - acc: 0.7615 - val_loss: 0.6396 - val_acc: 0.7726\n",
      "Epoch 10/101\n",
      "114048/114048 [==============================] - 75s - loss: 0.7029 - acc: 0.7669 - val_loss: 0.6380 - val_acc: 0.7754\n",
      "Epoch 11/101\n",
      "114048/114048 [==============================] - 75s - loss: 0.6612 - acc: 0.7770 - val_loss: 0.6012 - val_acc: 0.7811\n",
      "Epoch 12/101\n",
      "114048/114048 [==============================] - 75s - loss: 0.6423 - acc: 0.7825 - val_loss: 0.5841 - val_acc: 0.7950\n",
      "Epoch 13/101\n",
      "114048/114048 [==============================] - 74s - loss: 0.6107 - acc: 0.7938 - val_loss: 0.5754 - val_acc: 0.7971\n",
      "Epoch 14/101\n",
      "114048/114048 [==============================] - 75s - loss: 0.5902 - acc: 0.7973 - val_loss: 0.5281 - val_acc: 0.8145\n",
      "Epoch 15/101\n",
      "114048/114048 [==============================] - 75s - loss: 0.5463 - acc: 0.8085 - val_loss: 0.4278 - val_acc: 0.8432\n",
      "Epoch 16/101\n",
      "114048/114048 [==============================] - 75s - loss: 0.5777 - acc: 0.8169 - val_loss: 0.5259 - val_acc: 0.7843\n",
      "Epoch 17/101\n",
      "114048/114048 [==============================] - 74s - loss: 0.4823 - acc: 0.8248 - val_loss: 0.3942 - val_acc: 0.8499\n",
      "Epoch 18/101\n",
      "114048/114048 [==============================] - 74s - loss: 0.5220 - acc: 0.8180 - val_loss: 0.3922 - val_acc: 0.8511\n",
      "Epoch 19/101\n",
      "114048/114048 [==============================] - 75s - loss: 0.4260 - acc: 0.8395 - val_loss: 0.3717 - val_acc: 0.8521\n",
      "Epoch 20/101\n",
      "114048/114048 [==============================] - 74s - loss: 0.3919 - acc: 0.8479 - val_loss: 0.3494 - val_acc: 0.8613\n",
      "Epoch 21/101\n",
      "114048/114048 [==============================] - 74s - loss: 0.3772 - acc: 0.8520 - val_loss: 0.3408 - val_acc: 0.8628\n",
      "Epoch 22/101\n",
      "114048/114048 [==============================] - 74s - loss: 0.3662 - acc: 0.8560 - val_loss: 0.3283 - val_acc: 0.8704\n",
      "Epoch 23/101\n",
      "114048/114048 [==============================] - 74s - loss: 0.3541 - acc: 0.8605 - val_loss: 0.3210 - val_acc: 0.8744\n",
      "Epoch 24/101\n",
      "114048/114048 [==============================] - 75s - loss: 0.3461 - acc: 0.8638 - val_loss: 0.3153 - val_acc: 0.8775\n",
      "Epoch 25/101\n",
      "114048/114048 [==============================] - 75s - loss: 0.3388 - acc: 0.8669 - val_loss: 0.3073 - val_acc: 0.8824\n",
      "Epoch 26/101\n",
      "114048/114048 [==============================] - 75s - loss: 0.3330 - acc: 0.8698 - val_loss: 0.3035 - val_acc: 0.8815\n",
      "Epoch 27/101\n",
      "114048/114048 [==============================] - 75s - loss: 0.3256 - acc: 0.8733 - val_loss: 0.2940 - val_acc: 0.8878\n",
      "Epoch 28/101\n",
      "114048/114048 [==============================] - 75s - loss: 0.3197 - acc: 0.8763 - val_loss: 0.2883 - val_acc: 0.8915\n",
      "Epoch 29/101\n",
      "114048/114048 [==============================] - 74s - loss: 0.3127 - acc: 0.8795 - val_loss: 0.2801 - val_acc: 0.8951\n",
      "Epoch 30/101\n",
      "114048/114048 [==============================] - 75s - loss: 0.9821 - acc: 0.7593 - val_loss: 0.5834 - val_acc: 0.7866\n",
      "Epoch 31/101\n",
      "114048/114048 [==============================] - 75s - loss: 0.5571 - acc: 0.8053 - val_loss: 0.4085 - val_acc: 0.8494\n",
      "Epoch 32/101\n",
      "114048/114048 [==============================] - 74s - loss: 0.4493 - acc: 0.8362 - val_loss: 0.3662 - val_acc: 0.8609\n",
      "Epoch 33/101\n",
      "114048/114048 [==============================] - 75s - loss: 0.3896 - acc: 0.8504 - val_loss: 0.3385 - val_acc: 0.8717\n",
      "Epoch 34/101\n"
     ]
    },
    {
     "name": "stderr",
     "output_type": "stream",
     "text": [
      "Learning rate adjusted: 0.0024000000000000002\n"
     ]
    },
    {
     "name": "stdout",
     "output_type": "stream",
     "text": [
      "114048/114048 [==============================] - 74s - loss: 0.3678 - acc: 0.8569 - val_loss: 0.3254 - val_acc: 0.8763\n",
      "Epoch 35/101\n",
      "114048/114048 [==============================] - 75s - loss: 0.3550 - acc: 0.8612 - val_loss: 0.3166 - val_acc: 0.8795\n",
      "Epoch 36/101\n",
      "114048/114048 [==============================] - 75s - loss: 0.3463 - acc: 0.8645 - val_loss: 0.3101 - val_acc: 0.8819\n",
      "Epoch 37/101\n",
      "114048/114048 [==============================] - 74s - loss: 0.3392 - acc: 0.8677 - val_loss: 0.3043 - val_acc: 0.8835\n",
      "Epoch 38/101\n",
      "114048/114048 [==============================] - 75s - loss: 0.3323 - acc: 0.8710 - val_loss: 0.2962 - val_acc: 0.8868\n",
      "Epoch 39/101\n",
      "114048/114048 [==============================] - 74s - loss: 0.3252 - acc: 0.8740 - val_loss: 0.2924 - val_acc: 0.8881\n",
      "Epoch 40/101\n",
      "114048/114048 [==============================] - 74s - loss: 0.3195 - acc: 0.8768 - val_loss: 0.2848 - val_acc: 0.8933\n",
      "Epoch 41/101\n",
      "114048/114048 [==============================] - 74s - loss: 0.3143 - acc: 0.8789 - val_loss: 0.2797 - val_acc: 0.8951\n",
      "Epoch 42/101\n",
      "114048/114048 [==============================] - 74s - loss: 0.3091 - acc: 0.8811 - val_loss: 0.2759 - val_acc: 0.8983\n",
      "Epoch 43/101\n",
      "114048/114048 [==============================] - 75s - loss: 0.3049 - acc: 0.8832 - val_loss: 0.2702 - val_acc: 0.8990\n",
      "Epoch 44/101\n",
      "114048/114048 [==============================] - 74s - loss: 0.3004 - acc: 0.8850 - val_loss: 0.2688 - val_acc: 0.9007\n",
      "Epoch 45/101\n",
      "114048/114048 [==============================] - 74s - loss: 0.2962 - acc: 0.8869 - val_loss: 0.2605 - val_acc: 0.9032\n",
      "Epoch 46/101\n",
      "114048/114048 [==============================] - 75s - loss: 0.2933 - acc: 0.8880 - val_loss: 0.2597 - val_acc: 0.9037\n",
      "Epoch 47/101\n",
      "114048/114048 [==============================] - 75s - loss: 0.2901 - acc: 0.8894 - val_loss: 0.2561 - val_acc: 0.9064\n",
      "Epoch 48/101\n",
      "114048/114048 [==============================] - 74s - loss: 0.2867 - acc: 0.8908 - val_loss: 0.2522 - val_acc: 0.9064\n",
      "Epoch 49/101\n",
      "114048/114048 [==============================] - 75s - loss: 0.2829 - acc: 0.8922 - val_loss: 0.2472 - val_acc: 0.9085\n",
      "Epoch 50/101\n",
      "114048/114048 [==============================] - 74s - loss: 0.2799 - acc: 0.8933 - val_loss: 0.2458 - val_acc: 0.9087\n",
      "Epoch 51/101\n",
      "114048/114048 [==============================] - 74s - loss: 0.2781 - acc: 0.8940 - val_loss: 0.2414 - val_acc: 0.9111\n",
      "Epoch 52/101\n",
      "114048/114048 [==============================] - 75s - loss: 0.2745 - acc: 0.8954 - val_loss: 0.2382 - val_acc: 0.9117\n",
      "Epoch 53/101\n",
      "114048/114048 [==============================] - 74s - loss: 0.2720 - acc: 0.8964 - val_loss: 0.2353 - val_acc: 0.9135\n",
      "Epoch 54/101\n",
      "114048/114048 [==============================] - 75s - loss: 0.2691 - acc: 0.8975 - val_loss: 0.2339 - val_acc: 0.9126\n",
      "Epoch 55/101\n",
      "114048/114048 [==============================] - 75s - loss: 0.2669 - acc: 0.8982 - val_loss: 0.2312 - val_acc: 0.9133\n",
      "Epoch 56/101\n",
      "114048/114048 [==============================] - 74s - loss: 0.2647 - acc: 0.8991 - val_loss: 0.2308 - val_acc: 0.9127\n",
      "Epoch 57/101\n",
      "114048/114048 [==============================] - 75s - loss: 0.2636 - acc: 0.8994 - val_loss: 0.2286 - val_acc: 0.9139\n",
      "Epoch 58/101\n",
      "114048/114048 [==============================] - 74s - loss: 0.2603 - acc: 0.9007 - val_loss: 0.2246 - val_acc: 0.9168\n",
      "Epoch 59/101\n",
      "114048/114048 [==============================] - 75s - loss: 0.2586 - acc: 0.9013 - val_loss: 0.2241 - val_acc: 0.9161\n",
      "Epoch 60/101\n",
      "114048/114048 [==============================] - 74s - loss: 0.2565 - acc: 0.9022 - val_loss: 0.2214 - val_acc: 0.9176\n",
      "Epoch 61/101\n",
      "114048/114048 [==============================] - 74s - loss: 0.2549 - acc: 0.9029 - val_loss: 0.2199 - val_acc: 0.9171\n",
      "Epoch 62/101\n",
      "114048/114048 [==============================] - 74s - loss: 0.2527 - acc: 0.9036 - val_loss: 0.2168 - val_acc: 0.9184\n",
      "Epoch 63/101\n",
      "114048/114048 [==============================] - 75s - loss: 0.2516 - acc: 0.9040 - val_loss: 0.2163 - val_acc: 0.9191\n",
      "Epoch 64/101\n",
      "114048/114048 [==============================] - 74s - loss: 0.2488 - acc: 0.9052 - val_loss: 0.2137 - val_acc: 0.9200\n",
      "Epoch 65/101\n",
      "114048/114048 [==============================] - 74s - loss: 0.2470 - acc: 0.9058 - val_loss: 0.2120 - val_acc: 0.9205\n",
      "Epoch 66/101\n",
      "114048/114048 [==============================] - 74s - loss: 0.2422 - acc: 0.9075 - val_loss: 0.2084 - val_acc: 0.9227\n",
      "Epoch 67/101\n"
     ]
    },
    {
     "name": "stderr",
     "output_type": "stream",
     "text": [
      "Learning rate adjusted: 0.0019200000000000005\n"
     ]
    },
    {
     "name": "stdout",
     "output_type": "stream",
     "text": [
      "114048/114048 [==============================] - 75s - loss: 0.2409 - acc: 0.9081 - val_loss: 0.2081 - val_acc: 0.9219\n",
      "Epoch 68/101\n",
      "114048/114048 [==============================] - 75s - loss: 0.2397 - acc: 0.9086 - val_loss: 0.2055 - val_acc: 0.9232\n",
      "Epoch 69/101\n",
      "114048/114048 [==============================] - 74s - loss: 0.2383 - acc: 0.9090 - val_loss: 0.2056 - val_acc: 0.9232\n",
      "Epoch 70/101\n",
      "114048/114048 [==============================] - 74s - loss: 0.2368 - acc: 0.9098 - val_loss: 0.2024 - val_acc: 0.9253\n",
      "Epoch 71/101\n",
      "114048/114048 [==============================] - 74s - loss: 0.2353 - acc: 0.9103 - val_loss: 0.2026 - val_acc: 0.9254\n",
      "Epoch 72/101\n",
      "114048/114048 [==============================] - 75s - loss: 0.2338 - acc: 0.9109 - val_loss: 0.2010 - val_acc: 0.9244\n",
      "Epoch 73/101\n",
      "114048/114048 [==============================] - 75s - loss: 0.2322 - acc: 0.9114 - val_loss: 0.2018 - val_acc: 0.9237\n",
      "Epoch 74/101\n",
      "114048/114048 [==============================] - 74s - loss: 0.2310 - acc: 0.9121 - val_loss: 0.1976 - val_acc: 0.9265\n",
      "Epoch 75/101\n",
      "114048/114048 [==============================] - 74s - loss: 0.2293 - acc: 0.9127 - val_loss: 0.1957 - val_acc: 0.9268\n",
      "Epoch 76/101\n",
      "114048/114048 [==============================] - 75s - loss: 0.2280 - acc: 0.9132 - val_loss: 0.1987 - val_acc: 0.9248\n",
      "Epoch 77/101\n",
      "114048/114048 [==============================] - 75s - loss: 0.2266 - acc: 0.9137 - val_loss: 0.1943 - val_acc: 0.9288\n",
      "Epoch 78/101\n",
      "114048/114048 [==============================] - 75s - loss: 0.2246 - acc: 0.9145 - val_loss: 0.1930 - val_acc: 0.9271\n",
      "Epoch 79/101\n",
      "114048/114048 [==============================] - 74s - loss: 0.2233 - acc: 0.9150 - val_loss: 0.1889 - val_acc: 0.9295\n",
      "Epoch 80/101\n",
      "114048/114048 [==============================] - 74s - loss: 0.2218 - acc: 0.9157 - val_loss: 0.1887 - val_acc: 0.9297\n",
      "Epoch 81/101\n",
      "114048/114048 [==============================] - 74s - loss: 0.2205 - acc: 0.9162 - val_loss: 0.1848 - val_acc: 0.9322\n",
      "Epoch 82/101\n",
      "114048/114048 [==============================] - 75s - loss: 0.2189 - acc: 0.9167 - val_loss: 0.1837 - val_acc: 0.9316\n",
      "Epoch 83/101\n",
      "114048/114048 [==============================] - 74s - loss: 0.2173 - acc: 0.9174 - val_loss: 0.1831 - val_acc: 0.9326\n",
      "Epoch 84/101\n",
      "114048/114048 [==============================] - 75s - loss: 0.2164 - acc: 0.9176 - val_loss: 0.1832 - val_acc: 0.9317\n",
      "Epoch 85/101\n",
      "114048/114048 [==============================] - 74s - loss: 0.2149 - acc: 0.9183 - val_loss: 0.1788 - val_acc: 0.9347\n",
      "Epoch 86/101\n",
      "114048/114048 [==============================] - 75s - loss: 0.2137 - acc: 0.9188 - val_loss: 0.1770 - val_acc: 0.9351\n",
      "Epoch 87/101\n",
      "114048/114048 [==============================] - 75s - loss: 0.2120 - acc: 0.9194 - val_loss: 0.1788 - val_acc: 0.9334\n",
      "Epoch 88/101\n",
      "114048/114048 [==============================] - 74s - loss: 0.2111 - acc: 0.9197 - val_loss: 0.1744 - val_acc: 0.9353\n",
      "Epoch 89/101\n",
      "114048/114048 [==============================] - 75s - loss: 0.2153 - acc: 0.9191 - val_loss: 0.1746 - val_acc: 0.9358\n",
      "Epoch 90/101\n",
      "114048/114048 [==============================] - 74s - loss: 0.2089 - acc: 0.9206 - val_loss: 0.1728 - val_acc: 0.9370\n",
      "Epoch 91/101\n",
      "114048/114048 [==============================] - 74s - loss: 0.2075 - acc: 0.9211 - val_loss: 0.1719 - val_acc: 0.9376\n",
      "Epoch 92/101\n",
      "114048/114048 [==============================] - 74s - loss: 0.2054 - acc: 0.9218 - val_loss: 0.1701 - val_acc: 0.9384\n",
      "Epoch 93/101\n",
      "114048/114048 [==============================] - 74s - loss: 0.2044 - acc: 0.9222 - val_loss: 0.1685 - val_acc: 0.9384\n",
      "Epoch 94/101\n",
      "114048/114048 [==============================] - 75s - loss: 0.2028 - acc: 0.9227 - val_loss: 0.1675 - val_acc: 0.9384\n",
      "Epoch 95/101\n",
      "114048/114048 [==============================] - 75s - loss: 0.2021 - acc: 0.9231 - val_loss: 0.1671 - val_acc: 0.9381\n",
      "Epoch 96/101\n",
      "114048/114048 [==============================] - 74s - loss: 0.2005 - acc: 0.9236 - val_loss: 0.1674 - val_acc: 0.9379\n",
      "Epoch 97/101\n",
      "114048/114048 [==============================] - 75s - loss: 0.1997 - acc: 0.9240 - val_loss: 0.1639 - val_acc: 0.9406\n",
      "Epoch 98/101\n",
      "114048/114048 [==============================] - 74s - loss: 0.1988 - acc: 0.9243 - val_loss: 0.1624 - val_acc: 0.9405\n",
      "Epoch 99/101\n",
      "114048/114048 [==============================] - 75s - loss: 0.1949 - acc: 0.9257 - val_loss: 0.1597 - val_acc: 0.9428\n",
      "Epoch 100/101\n"
     ]
    },
    {
     "name": "stderr",
     "output_type": "stream",
     "text": [
      "Learning rate adjusted: 0.0015360000000000005\n"
     ]
    },
    {
     "name": "stdout",
     "output_type": "stream",
     "text": [
      "114048/114048 [==============================] - 75s - loss: 0.1941 - acc: 0.9259 - val_loss: 0.1594 - val_acc: 0.9421\n",
      "Epoch 101/101\n",
      "114048/114048 [==============================] - 74s - loss: 0.1933 - acc: 0.9263 - val_loss: 0.1594 - val_acc: 0.9411\n",
      "Q December 24, 1992 at 1:41:27 PM AKST                                    \n",
      "T 1992-12-24T13:41:27-11:02                                               \n",
      "\u001b[91m☒\u001b[0m 1992-12-24T12:42:28-00:00                                               \n",
      "Q Dec 21, 2051, 8:04:29 PM                                                \n",
      "T 2051-12-21T20:04:29-05:46                                               \n",
      "\u001b[91m☒\u001b[0m 2051-12-21T22:05:20-05:46                                               \n",
      "Q Wednesday, 4 September 2013 at 6:33:39 am Australian Eastern Standard Ti\n",
      "T 2013-09-04T06:33:39+09:40                                               \n",
      "\u001b[91m☒\u001b[0m 2013-09-04T05:33:33+09:00                                               \n",
      "Q Friday, 16 April 2077 at 5:25:09 am Australian Eastern Standard Time    \n",
      "T 2077-04-16T05:25:09+09:56                                               \n",
      "\u001b[91m☒\u001b[0m 2077-04-16T05:25:09+09:40                                               \n",
      "Q 6/9/14, 10:47 am                                                        \n",
      "T 2014-09-06T10:47:45+10:36                                               \n",
      "\u001b[91m☒\u001b[0m 2014-09-06T10:47:49+09:00                                               \n"
     ]
    },
    {
     "data": {
      "image/png": "[encoded data removed]",
      "text/plain": [
       "<matplotlib.figure.Figure at 0x7f363395e080>"
      ]
     },
     "metadata": {},
     "output_type": "display_data"
    }
   ],
   "source": [
    "# Train the model each generation and show predictions against the validation dataset\n",
    "\n",
    "gen_dt_train = DateTimeFormattedGenerator(COUNTRY_CODES, TRAINING_SIZE, MAXLEN_X, MAXLEN_Y)\n",
    "gen_dt_val   = DateTimeFormattedGenerator(COUNTRY_CODES, VALIDATION_SIZE, MAXLEN_X, MAXLEN_Y)\n",
    "\n",
    "gen_vec_train      = DateTimeVectorGenerator(gen_dt_train, ctable, INVERT)\n",
    "gen_vec_validation = DateTimeVectorGenerator(gen_dt_val,   ctable, INVERT)\n",
    "\n",
    "learning_hist.append(\n",
    "        model.fit_generator( gen_vec_train, \n",
    "                            samples_per_epoch = 33 * TRAINING_SIZE,\n",
    "                            nb_epoch=EPOCHS, \n",
    "                            verbose=1, \n",
    "                            callbacks=callbacks_list, \n",
    "                            validation_data=gen_vec_validation, \n",
    "                            nb_val_samples=VALIDATION_SIZE, \n",
    "                            #class_weight={}, \n",
    "                            #max_q_size=10, \n",
    "                            #nb_worker=1, \n",
    "                            #pickle_safe=False\n",
    "                           )\n",
    "        )\n",
    "\n",
    "model.save('../models/datatime_conv_mkI.h5')\n",
    "\n",
    "for idx in range(5):\n",
    "    X_test, y_test = next(gen_vec_test)            \n",
    "    preds = model.predict(X_test, verbose=0)\n",
    "    i = random.randrange(len(preds))    \n",
    "    q = ctable.decode(X_test[0][i], MAXLEN_X)    \n",
    "    correct = ctable.decode(y_test[i], MAXLEN_Y)\n",
    "    guess = ctable.decode(preds[i], MAXLEN_Y)\n",
    "    print('Q', q[::-1] if INVERT else q )\n",
    "    print('T', correct)\n",
    "    print(colors.ok + '☑' + colors.close if correct == guess else colors.fail + '☒' + colors.close, guess)\n",
    "\n",
    "visualize_history(learning_hist)            "
   ]
  },
  {
   "cell_type": "code",
   "execution_count": null,
   "metadata": {
    "collapsed": false
   },
   "outputs": [],
   "source": [
    "MAXLEN_X - MAXLEN_Y"
   ]
  },
  {
   "cell_type": "markdown",
   "metadata": {},
   "source": [
    "<h1>Results</h1>"
   ]
  },
  {
   "cell_type": "markdown",
   "metadata": {
    "collapsed": true
   },
   "source": [
    "\n",
    "\n",
    "~~~\n",
    "print('Build model...')\n",
    "\n",
    "filter_lengths = [2,3,4,5] # \"dd\" or \"mm-\" or \"/mm\" or \"GMT\" or \"yyyy\"  \n",
    "conv_filters = []\n",
    "\n",
    "for fl in filter_lengths:\n",
    "    conv_filters.append(Sequential())\n",
    "    conv_filters[-1].add(Convolution1D(nb_filter=CHARSET_LEN,\n",
    "                        filter_length=fl,\n",
    "                        activation='relu',\n",
    "                        input_shape=(MAXLEN_X, CHARSET_LEN),\n",
    "                        subsample_length=1,\n",
    "                       ))\n",
    "    conv_filters[-1].add(MaxPooling1D(pool_length=68)) # was 68 \n",
    "\n",
    "\n",
    "model = Sequential()\n",
    "model.add(Merge(conv_filters, mode='concat'))\n",
    "model.add(Dropout(0.33333))\n",
    "model.add(Flatten())\n",
    "model.add(RepeatVector(MAXLEN_X))\n",
    "model.add(recurrent.GRU(HIDDEN_SIZE, \n",
    "                          activation='relu',\n",
    "                          return_sequences=True,\n",
    "                       ))\n",
    "model.add(Dropout(0.333333))\n",
    "model.add(TimeDistributed(Dense(CHARSET_LEN, \n",
    "                                activation='softmax')\n",
    "                         ))\n",
    "opt = Nadam(lr=0) # Using LR scheduler\n",
    "model.compile(loss='categorical_crossentropy',\n",
    "              optimizer=opt,\n",
    "              metrics=['accuracy'])\n",
    "model.summary()\n",
    "~~~\n",
    "\n",
    "~~~\n",
    "Epoch 90/101\n",
    "114048/114048 [==============================] - 74s - loss: 0.2089 - acc: 0.9206 - val_loss: 0.1728 - val_acc: 0.9370\n",
    "Epoch 91/101\n",
    "114048/114048 [==============================] - 74s - loss: 0.2075 - acc: 0.9211 - val_loss: 0.1719 - val_acc: 0.9376\n",
    "Epoch 92/101\n",
    "114048/114048 [==============================] - 74s - loss: 0.2054 - acc: 0.9218 - val_loss: 0.1701 - val_acc: 0.9384\n",
    "Epoch 93/101\n",
    "114048/114048 [==============================] - 74s - loss: 0.2044 - acc: 0.9222 - val_loss: 0.1685 - val_acc: 0.9384\n",
    "Epoch 94/101\n",
    "114048/114048 [==============================] - 75s - loss: 0.2028 - acc: 0.9227 - val_loss: 0.1675 - val_acc: 0.9384\n",
    "Epoch 95/101\n",
    "114048/114048 [==============================] - 75s - loss: 0.2021 - acc: 0.9231 - val_loss: 0.1671 - val_acc: 0.9381\n",
    "Epoch 96/101\n",
    "114048/114048 [==============================] - 74s - loss: 0.2005 - acc: 0.9236 - val_loss: 0.1674 - val_acc: 0.9379\n",
    "Epoch 97/101\n",
    "114048/114048 [==============================] - 75s - loss: 0.1997 - acc: 0.9240 - val_loss: 0.1639 - val_acc: 0.9406\n",
    "Epoch 98/101\n",
    "114048/114048 [==============================] - 74s - loss: 0.1988 - acc: 0.9243 - val_loss: 0.1624 - val_acc: 0.9405\n",
    "Epoch 99/101\n",
    "114048/114048 [==============================] - 75s - loss: 0.1949 - acc: 0.9257 - val_loss: 0.1597 - val_acc: 0.9428\n",
    "Epoch 100/101\n",
    "Learning rate adjusted: 0.0015360000000000005\n",
    "114048/114048 [==============================] - 75s - loss: 0.1941 - acc: 0.9259 - val_loss: 0.1594 - val_acc: 0.9421\n",
    "Epoch 101/101\n",
    "114048/114048 [==============================] - 74s - loss: 0.1933 - acc: 0.9263 - val_loss: 0.1594 - val_acc: 0.9411\n",
    "~~~"
   ]
  },
  {
   "cell_type": "code",
   "execution_count": 36,
   "metadata": {
    "collapsed": false
   },
   "outputs": [
    {
     "name": "stdout",
     "output_type": "stream",
     "text": [
      "Q August 26, 2071 at 8:09:54 AM MST                                       \n",
      "T 2071-08-26T08:09:54-07:45                                               \n",
      "\u001b[91m☒\u001b[0m 2071-08-26T08:09:59-07:50                                               \n",
      "Q Nov 14, 2068, 7:16:59 AM                                                \n",
      "T 2068-11-14T07:16:59-05:45                                               \n",
      "\u001b[91m☒\u001b[0m 2068-11-14T07:15:45-05:46                                               \n",
      "Q April 22, 2097 at 1:38:47 PM MST                                        \n",
      "T 2097-04-22T13:38:47-07:28                                               \n",
      "\u001b[91m☒\u001b[0m 2097-04-22T13:38:48-07:50                                               \n",
      "Q Friday, August 13, 2038 at 7:39:12 PM Eastern Standard Time             \n",
      "T 2038-08-13T19:39:12-05:39                                               \n",
      "\u001b[91m☒\u001b[0m 2038-08-13T19:39:19-05:49                                               \n",
      "Q Tuesday, January 8, 1974 at 2:23:41 AM Eastern Standard Time            \n",
      "T 1974-01-08T02:23:41-05:50                                               \n",
      "\u001b[91m☒\u001b[0m 1974-01-08T02:23:45-05:45                                               \n",
      "Q Wednesday, 11 March 2105 at 12:22:23 pm Macquarie Island Time           \n",
      "T 2105-03-11T12:22:23+00:00                                               \n",
      "\u001b[91m☒\u001b[0m 2105-03-11T12:23:23+09:00                                               \n",
      "Q Monday, August 29, 2044 at 3:39:17 AM Alaska Standard Time              \n",
      "T 2044-08-29T03:39:17-10:00                                               \n",
      "\u001b[91m☒\u001b[0m 2044-08-29T03:39:10-09:00                                               \n",
      "Q May 9, 1977 at 5:39:36 PM CST                                           \n",
      "T 1977-05-09T17:39:36-06:47                                               \n",
      "\u001b[91m☒\u001b[0m 1977-05-09T17:30:35-05:45                                               \n",
      "Q Tuesday, 20 December 1977 at 1:42:21 pm Australian Central Standard Time\n",
      "T 1977-12-20T13:42:21+09:00                                               \n",
      "\u001b[91m☒\u001b[0m 1977-12-20T12:42:24+09:00                                               \n",
      "Q Monday, February 15, 2094 at 12:40:51 PM Eastern Standard Time          \n",
      "T 2094-02-15T12:40:51-05:45                                               \n",
      "\u001b[91m☒\u001b[0m 2094-02-15T13:59:45-05:46                                               \n"
     ]
    }
   ],
   "source": [
    "X_test, y_test = next(gen_vec_validation)            \n",
    "preds = model.predict(X_test, verbose=0)\n",
    "for idx in range(10):\n",
    "    i = random.randrange(len(preds))    \n",
    "    q = ctable.decode(X_test[0][i], MAXLEN_X)    \n",
    "    correct = ctable.decode(y_test[i], MAXLEN_Y)\n",
    "    guess = ctable.decode(preds[i], MAXLEN_Y)\n",
    "    print('Q', q[::-1] if INVERT else q )\n",
    "    print('T', correct)\n",
    "    print(colors.ok + '☑' + colors.close if correct == guess else colors.fail + '☒' + colors.close, guess)"
   ]
  },
  {
   "cell_type": "code",
   "execution_count": 37,
   "metadata": {
    "collapsed": false
   },
   "outputs": [
    {
     "data": {
      "image/png": "[encoded data removed]",
      "text/plain": [
       "<matplotlib.figure.Figure at 0x7f3632780cc0>"
      ]
     },
     "metadata": {},
     "output_type": "display_data"
    }
   ],
   "source": [
    "plt.figure(figsize=(12, 6))\n",
    "discard = int(math.ceil(len(learning_hist)/100))*1\n",
    "# skip the first few, they destroy plot scale\n",
    "plt.plot([i for i in learning_hist[-1].history['loss'][discard:]], label='loss')\n",
    "plt.plot([i for i in learning_hist[-1].history['val_loss'][discard:]], label='val_loss')\n",
    "\n",
    "plt.ylabel('error')\n",
    "plt.xlabel('iteration')\n",
    "plt.legend()\n",
    "#plt.ylim([0, 0.005])\n",
    "plt.title('training error')\n",
    "plt.show()"
   ]
  },
  {
   "cell_type": "code",
   "execution_count": 38,
   "metadata": {
    "collapsed": false
   },
   "outputs": [
    {
     "data": {
      "image/png": "[encoded data removed]",
      "text/plain": [
       "<matplotlib.figure.Figure at 0x7f36328234e0>"
      ]
     },
     "metadata": {},
     "output_type": "display_data"
    }
   ],
   "source": [
    "plt.figure(figsize=(12, 6))\n",
    "discard = int(math.ceil(len(learning_hist)/100))*1\n",
    "# skip the first few, they destroy plot scale\n",
    "plt.plot([i for i in learning_hist[-1].history['acc'][discard:]], label='acc')\n",
    "plt.plot([i for i in learning_hist[-1].history['val_acc'][discard:]], label='val_acc')\n",
    "\n",
    "plt.ylabel('accuracy')\n",
    "plt.xlabel('iteration')\n",
    "plt.legend()\n",
    "#plt.ylim([0, 0.005])\n",
    "plt.title('training accuracy')\n",
    "plt.show()"
   ]
  },
  {
   "cell_type": "code",
   "execution_count": null,
   "metadata": {
    "collapsed": false
   },
   "outputs": [],
   "source": [
    "#len(learning_hist[0].history['loss'])"
   ]
  },
  {
   "cell_type": "code",
   "execution_count": null,
   "metadata": {
    "collapsed": true
   },
   "outputs": [],
   "source": [
    "#model.save('../models/datatime_autoencoder_model.h5')"
   ]
  },
  {
   "cell_type": "code",
   "execution_count": null,
   "metadata": {
    "collapsed": false
   },
   "outputs": [],
   "source": [
    "next(gen_dt)"
   ]
  },
  {
   "cell_type": "code",
   "execution_count": null,
   "metadata": {
    "collapsed": false
   },
   "outputs": [],
   "source": [
    "#model.load_weights('../models/datatime_conv_mkI.h5')"
   ]
  },
  {
   "cell_type": "code",
   "execution_count": null,
   "metadata": {
    "collapsed": false
   },
   "outputs": [],
   "source": [
    "!! ls ../models/\n"
   ]
  },
  {
   "cell_type": "code",
   "execution_count": null,
   "metadata": {
    "collapsed": false
   },
   "outputs": [
    {
     "name": "stdout",
     "output_type": "stream",
     "text": [
      "Epoch 1/20\n",
      "114048/114048 [==============================] - 77s - loss: 0.1924 - acc: 0.9266 - val_loss: 0.1577 - val_acc: 0.9426\n",
      "Epoch 2/20\n",
      "114048/114048 [==============================] - 75s - loss: 0.1912 - acc: 0.9270 - val_loss: 0.1579 - val_acc: 0.9427\n",
      "Epoch 3/20\n",
      " 13824/114048 [==>...........................] - ETA: 66s - loss: 0.1905 - acc: 0.9272"
     ]
    }
   ],
   "source": [
    "# A smidge more training ...\n",
    "learning_hist.append(\n",
    "        model.fit_generator( gen_vec_train, \n",
    "                            samples_per_epoch = 33 * TRAINING_SIZE,\n",
    "                            nb_epoch=20, \n",
    "                            verbose=1, \n",
    "                            #callbacks=callbacks_list, \n",
    "                            validation_data=gen_vec_validation, \n",
    "                            nb_val_samples=VALIDATION_SIZE, \n",
    "                            #class_weight={}, \n",
    "                            #max_q_size=10, \n",
    "                            #nb_worker=1, \n",
    "                            #pickle_safe=False\n",
    "                           )\n",
    "        )"
   ]
  },
  {
   "cell_type": "code",
   "execution_count": null,
   "metadata": {
    "collapsed": true
   },
   "outputs": [],
   "source": []
  }
 ],
 "metadata": {
  "kernelspec": {
   "display_name": "Python 3",
   "language": "python",
   "name": "python3"
  }
 },
 "nbformat": 4,
 "nbformat_minor": 1
}
