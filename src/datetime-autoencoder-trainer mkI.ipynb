{
 "cells": [
  {
   "cell_type": "markdown",
   "metadata": {},
   "source": [
    "<h1>Datetime recognizer</h1>\n",
    "Train a model to recognize any datetimes in a given text string. \n",
    "\n",
    "Start with simple iso8601s and then progress to locales, timezones, countries & conventions.\n",
    "\n",
    "\n",
    "Starting from the Keras autoencoder example."
   ]
  },
  {
   "cell_type": "code",
   "execution_count": 1,
   "metadata": {
    "collapsed": true
   },
   "outputs": [],
   "source": [
    "import os\n",
    "\n",
    "os.environ['KERAS_BACKEND'] = 'tensorflow'\n",
    "os.environ['LD_LIBRARY_PATH'] = '/usr/local/cuda/lib64'\n",
    "os.environ['CUDA_HOME'] = '/usr/local/cuda'"
   ]
  },
  {
   "cell_type": "code",
   "execution_count": 2,
   "metadata": {
    "collapsed": false
   },
   "outputs": [
    {
     "name": "stderr",
     "output_type": "stream",
     "text": [
      "Using TensorFlow backend.\n"
     ]
    }
   ],
   "source": [
    "# -*- coding: utf-8 -*-\n",
    "'''An implementation of sequence to sequence learning to decode localized datetimes from strings\n",
    "Input: \"Monday 31 December 2007 07:07:07.0000000 +02:00 CET/Europe\"\n",
    "or\n",
    "       \"Monday, 24 October 1977 at 09:10:55 Greenwich Mean Time\"\n",
    "Output: \"2007-12-31T07:07:07.00000+02:00\"\n",
    "Padding is handled by using a repeated sentinel character (space)\n",
    "\n",
    "\n",
    "Input may optionally be inverted, shown to increase performance in many tasks in:\n",
    "\"Learning to Execute\"\n",
    "http://arxiv.org/abs/1410.4615\n",
    "and\n",
    "\"Sequence to Sequence Learning with Neural Networks\"\n",
    "http://papers.nips.cc/paper/5346-sequence-to-sequence-learning-with-neural-networks.pdf\n",
    "Theoretically it introduces shorter term dependencies between source and target.\n",
    "\n",
    "'''\n",
    "from keras.models import Sequential\n",
    "from keras.engine.training import slice_X\n",
    "from keras.layers import Activation, TimeDistributed, Dense, RepeatVector, recurrent\n",
    "from keras.optimizers import Adam, SGD, RMSprop, Nadam\n",
    "from keras.callbacks import LearningRateScheduler, ModelCheckpoint, EarlyStopping\n",
    "#from keras.callbacks import ReduceLROnPlateau\n",
    "import numpy as np\n",
    "from six.moves import range\n",
    "import pytz\n",
    "from datetime import datetime, timezone\n",
    "import itertools\n",
    "import random\n",
    "from babel import Locale, localedata, UnknownLocaleError\n",
    "from babel.dates import format_datetime\n",
    "from tqdm import tqdm\n",
    "import sys\n",
    "import string"
   ]
  },
  {
   "cell_type": "code",
   "execution_count": 3,
   "metadata": {
    "collapsed": true
   },
   "outputs": [],
   "source": [
    "import matplotlib.pyplot as plt\n",
    "import math"
   ]
  },
  {
   "cell_type": "code",
   "execution_count": 4,
   "metadata": {
    "collapsed": true
   },
   "outputs": [],
   "source": [
    "%matplotlib inline"
   ]
  },
  {
   "cell_type": "code",
   "execution_count": 5,
   "metadata": {
    "collapsed": true
   },
   "outputs": [],
   "source": [
    "class CharacterTable(object):\n",
    "    '''\n",
    "    Given a set of characters:\n",
    "    + Encode them to a one hot integer representation\n",
    "    + Decode the one hot integer representation to their character output\n",
    "    + Decode a vector of probabilities to their character output\n",
    "    '''\n",
    "    def __init__(self, country_codes, maxlen):\n",
    "        self.chars = set(string.ascii_letters + \n",
    "                         string.punctuation + \n",
    "                         string.digits\n",
    "                        )\n",
    "\n",
    "        ts_from = int(datetime(1980, 1, 1, tzinfo=timezone.utc).timestamp())\n",
    "        ts_to   = int(datetime(1981, 1, 1, tzinfo=timezone.utc).timestamp())\n",
    "        tstamps = [t for t in range(ts_from, ts_to, 60*1000)]\n",
    "        retries = 0\n",
    "        \n",
    "        #Hoover up all the non-ascii characters that might be needed\n",
    "        for country_code in tqdm(country_codes):\n",
    "            try:                            \n",
    "                if pytz.country_timezones.get(country_code):\n",
    "                    for ctzone in pytz.country_timezones(country_code):\n",
    "                        tzone = pytz.timezone(ctzone)\n",
    "                        country_locale = Locale.parse('und_' + country_code)\n",
    "                        for fmt  in ['short',' medium','long','full']:\n",
    "                            ydts = [datetime.utcfromtimestamp(t).replace(tzinfo=tzone) for t in tstamps]\n",
    "                            if random.choice([True, False]):\n",
    "                                X = [format_datetime(dt, format=fmt, locale=country_locale) for dt in ydts]\n",
    "                            else:\n",
    "                                sep = random.choice([' ','T'])\n",
    "                                X = [dt.isoformat(sep) for dt in ydts]\n",
    "\n",
    "                            # So that's a years worth of datetimes for all the countrys & locales & timezones \n",
    "                            for ln in X:\n",
    "                                # Going with case sensitive because some dt formats have an \"i\"\n",
    "                                self.chars = self.chars.union( set(iter(ln)))\n",
    "                                \n",
    "            except UnknownLocaleError:                    \n",
    "                if retries >=21:\n",
    "                    raise # Somethings gone wrong!\n",
    "\n",
    "        self.chars = sorted(self.chars)\n",
    "\n",
    "        self.char_indices = dict((c, i) for i, c in enumerate(self.chars))\n",
    "        self.indices_char = dict((i, c) for i, c in enumerate(self.chars))\n",
    "        self.maxlen = maxlen\n",
    "\n",
    "    def encode(self, C, maxlen=None):\n",
    "        maxlen = maxlen if maxlen else self.maxlen\n",
    "        X = np.zeros((maxlen, len(self.chars)))\n",
    "        for i, c in enumerate(C[:maxlen]):\n",
    "            X[i, self.char_indices[c]] = 1\n",
    "        return X\n",
    "\n",
    "    def decode(self, X, calc_argmax=True):\n",
    "        if calc_argmax:\n",
    "            X = X.argmax(axis=-1)\n",
    "        return ''.join(self.indices_char[x] for x in X)"
   ]
  },
  {
   "cell_type": "code",
   "execution_count": 6,
   "metadata": {
    "collapsed": false
   },
   "outputs": [],
   "source": [
    "#ctable = CharacterTable(COUNTRY_CODES, MAXLEN_X)\n",
    "#ctable.chars"
   ]
  },
  {
   "cell_type": "code",
   "execution_count": 7,
   "metadata": {
    "collapsed": true
   },
   "outputs": [],
   "source": [
    "class colors:\n",
    "    ok = '\\033[92m'\n",
    "    fail = '\\033[91m'\n",
    "    close = '\\033[0m'"
   ]
  },
  {
   "cell_type": "code",
   "execution_count": 8,
   "metadata": {
    "collapsed": true
   },
   "outputs": [],
   "source": [
    "def DateTimeDataGenerator(sample_size):   \n",
    "    while True:        \n",
    "        # 0xFFFFFFFF 32 bit unsigned max 2106\n",
    "        # 0x7FFFFFFF 32 bit   signed max 2038\n",
    "        tstamps = [random.randrange(0xFFFFFFFF) for _ in range(sample_size)]\n",
    "\n",
    "        yield tstamps\n"
   ]
  },
  {
   "cell_type": "code",
   "execution_count": 9,
   "metadata": {
    "collapsed": true
   },
   "outputs": [],
   "source": [
    "def DateTimeIsoGenerator(country_codes, sample_size, maxlen_x, maxlen_y, invert):\n",
    "    \"\"\"Simplest case for training, straing 86012, no timezone.\n",
    "    \"\"\"\n",
    "    dtdg = DateTimeDataGenerator(sample_size)\n",
    "    \n",
    "    while True:        \n",
    "        # 0xFFFFFFFF 32 bit unsigned max 2106\n",
    "        # 0x7FFFFFFF 32 bit   signed max 2038\n",
    "        tstamps = next(dtdg)\n",
    "\n",
    "        ydts = [datetime.utcfromtimestamp(t).isoformat('T') for t in tstamps]\n",
    "        sep = random.choice([' ','T'])\n",
    "        X = [datetime.utcfromtimestamp(t).isoformat(sep) for t in tstamps] \n",
    "\n",
    "        # pad or chop to length\n",
    "        X    = [(pp + (' '*maxlen_x))[:maxlen_x] for pp in X]\n",
    "        ydts = [(pp + (' '*maxlen_y))[:maxlen_y] for pp in ydts]\n",
    "        \n",
    "        if invert:\n",
    "            X = [xx[::-1] for xx in X]\n",
    "            \n",
    "        yield (X, ydts)"
   ]
  },
  {
   "cell_type": "code",
   "execution_count": 10,
   "metadata": {
    "collapsed": true
   },
   "outputs": [],
   "source": [
    "def DateTimeFormattedGenerator(country_codes, sample_size, maxlen_x, maxlen_y, invert):\n",
    "    dtdg = DateTimeDataGenerator(sample_size)\n",
    "    all_locales = localedata.locale_identifiers()\n",
    "    \n",
    "    while True:        \n",
    "        # 0xFFFFFFFF 32 bit unsigned max 2106\n",
    "        # 0x7FFFFFFF 32 bit   signed max 2038\n",
    "        tstamps = next(dtdg)\n",
    "\n",
    "        # Pick a country and timezone\n",
    "        for retries in range(32):\n",
    "            try:\n",
    "                country_code = random.choice(country_codes)\n",
    "                timezone = pytz.timezone(random.choice(pytz.country_timezones(country_code)))\n",
    "                country_locale = Locale.parse('und_' + country_code)\n",
    "                break\n",
    "            except UnknownLocaleError:\n",
    "                print('UnknownLocaleError: %s'%'und_' + country_code, file=sys.stderr)\n",
    "                if retries >=31:\n",
    "                    raise # Somethings gone wrong!\n",
    "                    \n",
    "        ydts = [datetime.utcfromtimestamp(t).replace(tzinfo=timezone).isoformat('T') for t in tstamps]\n",
    "        \n",
    "\n",
    "        fmt = random.choice(['short',' medium','long','full'])\n",
    "        X = [format_datetime(datetime.utcfromtimestamp(t).replace(tzinfo=timezone), \n",
    "                             format=fmt, \n",
    "                             locale=country_locale\n",
    "                            ) for t in tstamps]\n",
    "\n",
    "        # pad or chop to length\n",
    "        X    = [(pp + (' '*maxlen_x))[:maxlen_x] for pp in X]\n",
    "        ydts = [(pp + (' '*maxlen_y))[:maxlen_y] for pp in ydts]\n",
    "        \n",
    "        if invert:\n",
    "            X = [xx[::-1] for xx in X]\n",
    "            \n",
    "        yield (X, ydts)"
   ]
  },
  {
   "cell_type": "code",
   "execution_count": 11,
   "metadata": {
    "collapsed": true
   },
   "outputs": [],
   "source": [
    "def DateTimeVectorGenerator(dt_generator, ctable):    \n",
    "    X_next, y_next = next(dt_generator)\n",
    "    while True:\n",
    "        # X_next are all the same MAXLEN_X length. Same for y_next\n",
    "        X = np.zeros((len(X_next), len(X_next[0]), len(ctable.chars)), dtype=np.bool)\n",
    "        y = np.zeros((len(y_next), len(y_next[0]), len(ctable.chars)), dtype=np.bool)\n",
    "        \n",
    "        for i, sentence in enumerate(X_next):\n",
    "            X[i] = ctable.encode(sentence, len(X_next[0]))\n",
    "            \n",
    "        for i, sentence in enumerate(y_next):\n",
    "            y[i] = ctable.encode(sentence, len(y_next[0]))\n",
    "        \n",
    "        yield X, y"
   ]
  },
  {
   "cell_type": "code",
   "execution_count": 12,
   "metadata": {
    "collapsed": true
   },
   "outputs": [],
   "source": [
    "def visualize_history(learning_hist, data_filename=None):    \n",
    "    plt.figure(figsize=(12, 6))\n",
    "    discard = int(math.ceil(len(learning_hist)/100))*5\n",
    "    # skip the first few, they destroy plot scale\n",
    "    plt.plot([i.history['loss']     for i in learning_hist][discard:], label='loss')\n",
    "    plt.plot([i.history['val_loss'] for i in learning_hist][discard:], label='val_loss')\n",
    "\n",
    "    plt.ylabel('error')\n",
    "    plt.xlabel('iteration')\n",
    "    plt.legend()\n",
    "    #plt.ylim([0, 0.005])\n",
    "    plt.title('training error')\n",
    "    if (data_filename is not None):\n",
    "        plt.savefig(data_filename)\n",
    "        plt.close()\n",
    "    else:\n",
    "        plt.show()"
   ]
  },
  {
   "cell_type": "code",
   "execution_count": 25,
   "metadata": {
    "collapsed": false
   },
   "outputs": [],
   "source": [
    "# learning rate schedule\n",
    "def step_decay(epoch):\n",
    "    initial_lrate = 0.035\n",
    "    drop = 0.75\n",
    "    epochs_drop = 15.0        \n",
    "    lrate = initial_lrate * math.pow(drop, math.floor((1+epoch)/epochs_drop))    \n",
    "    \n",
    "    if not epoch % epochs_drop:\n",
    "        print('Learning rate adjusted: {}'.format(lrate), file=sys.stderr)\n",
    "    \n",
    "    return lrate"
   ]
  },
  {
   "cell_type": "code",
   "execution_count": 26,
   "metadata": {
    "collapsed": false
   },
   "outputs": [],
   "source": [
    "# Parameters for the model and dataset\n",
    "TRAINING_SIZE   = 1111 #gn1 #50000\n",
    "VALIDATION_SIZE = 111\n",
    "INVERT = True\n",
    "# Try replacing GRU, or SimpleRNN\n",
    "RNN = recurrent.SimpleRNN\n",
    "\n",
    "BATCH_SIZE = 8\n",
    "LAYERS = 5\n",
    "MAXLEN_X = 72 # longer than anything expected like 'Monday 31 December 2000 07:07:07.0000000 +02:00 CET/Europe'\n",
    "MAXLEN_Y = len(datetime.now().isoformat(' '))\n",
    "COUNTRY_CODES = ['GB', ] #'US','DE','FR','ES','IT','CA', 'NO','SE','DK','FI','EE','CZ','PL'] # pytz.country_names.keys()\n",
    "\n",
    "HIDDEN_SIZE = MAXLEN_X * 9"
   ]
  },
  {
   "cell_type": "code",
   "execution_count": null,
   "metadata": {
    "collapsed": false
   },
   "outputs": [],
   "source": []
  },
  {
   "cell_type": "code",
   "execution_count": 27,
   "metadata": {
    "collapsed": false
   },
   "outputs": [
    {
     "name": "stderr",
     "output_type": "stream",
     "text": [
      "100%|██████████| 1/1 [00:00<00:00,  9.76it/s]\n"
     ]
    }
   ],
   "source": [
    "ctable = CharacterTable(COUNTRY_CODES, MAXLEN_X)"
   ]
  },
  {
   "cell_type": "code",
   "execution_count": 28,
   "metadata": {
    "collapsed": false,
    "scrolled": true
   },
   "outputs": [
    {
     "name": "stdout",
     "output_type": "stream",
     "text": [
      "X_train.shape: (1111, 72, 95)\n",
      "y_train.shape: (1111, 26, 95)\n"
     ]
    }
   ],
   "source": [
    "gen_dt = DateTimeIsoGenerator(COUNTRY_CODES, TRAINING_SIZE, MAXLEN_X, MAXLEN_Y, INVERT)\n",
    "#gen_dt = DateTimeFormattedGenerator(COUNTRY_CODES, TRAINING_SIZE, MAXLEN_X, MAXLEN_Y, INVERT)\n",
    "\n",
    "gen_vec_train      = DateTimeVectorGenerator(gen_dt, ctable)\n",
    "gen_vec_validation = DateTimeVectorGenerator(gen_dt, ctable)\n",
    "\n",
    "X_train, y_train = next(gen_vec_train)\n",
    "print('X_train.shape: %s'%str(X_train.shape))\n",
    "print('y_train.shape: %s'%str(y_train.shape))"
   ]
  },
  {
   "cell_type": "code",
   "execution_count": 35,
   "metadata": {
    "collapsed": false
   },
   "outputs": [
    {
     "name": "stdout",
     "output_type": "stream",
     "text": [
      "Build model...\n",
      "____________________________________________________________________________________________________\n",
      "Layer (type)                     Output Shape          Param #     Connected to                     \n",
      "====================================================================================================\n",
      "simplernn_9 (SimpleRNN)          (None, 648)           482112      simplernn_input_3[0][0]          \n",
      "____________________________________________________________________________________________________\n",
      "activation_4 (Activation)        (None, 648)           0           simplernn_9[0][0]                \n",
      "____________________________________________________________________________________________________\n",
      "repeatvector_3 (RepeatVector)    (None, 26, 648)       0           activation_4[0][0]               \n",
      "____________________________________________________________________________________________________\n",
      "simplernn_10 (SimpleRNN)         (None, 26, 648)       840456      repeatvector_3[0][0]             \n",
      "____________________________________________________________________________________________________\n",
      "simplernn_11 (SimpleRNN)         (None, 26, 648)       840456      simplernn_10[0][0]               \n",
      "____________________________________________________________________________________________________\n",
      "simplernn_12 (SimpleRNN)         (None, 26, 648)       840456      simplernn_11[0][0]               \n",
      "____________________________________________________________________________________________________\n",
      "simplernn_13 (SimpleRNN)         (None, 26, 648)       840456      simplernn_12[0][0]               \n",
      "____________________________________________________________________________________________________\n",
      "simplernn_14 (SimpleRNN)         (None, 26, 648)       840456      simplernn_13[0][0]               \n",
      "____________________________________________________________________________________________________\n",
      "timedistributed_3 (TimeDistribute(None, 26, 95)        61655       simplernn_14[0][0]               \n",
      "____________________________________________________________________________________________________\n",
      "activation_5 (Activation)        (None, 26, 95)        0           timedistributed_3[0][0]          \n",
      "====================================================================================================\n",
      "Total params: 4746047\n",
      "____________________________________________________________________________________________________\n"
     ]
    }
   ],
   "source": [
    "print('Build model...')\n",
    "model = Sequential()\n",
    "# \"Encode\" the input sequence using an RNN, producing an output of HIDDEN_SIZE\n",
    "# note: in a situation where your input sequences have a variable length,\n",
    "# use inputhttps://scherbatsky.local:8000/notebooks/ml/datetime%20autoencoder-Copy1.ipynb#_shape=(None, nb_feature).\n",
    "model.add(RNN(HIDDEN_SIZE, input_shape=(MAXLEN_X, len(ctable.chars))))\n",
    "model.add(Activation('relu'))\n",
    "#model.add(Dropout(0.2))\n",
    "# For the decoder's input, we repeat the encoded input for each time step\n",
    "model.add(RepeatVector(MAXLEN_Y))\n",
    "# The decoder RNN could be multiple layers stacked or a single layer\n",
    "for _ in range(LAYERS):\n",
    "    model.add(RNN(HIDDEN_SIZE, return_sequences=True))\n",
    "\n",
    "# For each of step of the output sequence, decide which character should be chosen\n",
    "model.add(TimeDistributed(Dense(len(ctable.chars))))\n",
    "model.add(Activation('softmax'))\n",
    "#opt = RMSprop(lr=0.035, decay=0.999)\n",
    "#opt = Nadam(lr=0.0035)\n",
    "#opt = Nadam()\n",
    "#opt = SGD(lr=0.065, decay=0.999)\n",
    "opt = SGD(lr=0) # Using scheduler\n",
    "model.compile(loss='categorical_crossentropy',\n",
    "              optimizer=opt,\n",
    "              metrics=['accuracy'])\n",
    "model.summary()"
   ]
  },
  {
   "cell_type": "code",
   "execution_count": 36,
   "metadata": {
    "collapsed": false
   },
   "outputs": [],
   "source": [
    "stopper = EarlyStopping(patience=25, \n",
    "                        verbose=1, \n",
    "                        mode='auto')"
   ]
  },
  {
   "cell_type": "code",
   "execution_count": 37,
   "metadata": {
    "collapsed": true
   },
   "outputs": [],
   "source": [
    "checkpointer = ModelCheckpoint('../models/checkpoint.{epoch:02d}-{val_loss:.2f}.hdf5', \n",
    "                             monitor='val_loss', \n",
    "                             verbose=1, \n",
    "                             save_best_only=True, \n",
    "                             save_weights_only=False, \n",
    "                             mode='auto')"
   ]
  },
  {
   "cell_type": "code",
   "execution_count": 38,
   "metadata": {
    "collapsed": false
   },
   "outputs": [],
   "source": [
    "learning_hist = []\n",
    "gen_dt_test = DateTimeIsoGenerator(COUNTRY_CODES, TRAINING_SIZE, MAXLEN_X, MAXLEN_Y, INVERT)\n",
    "#gen_dt_test = DateTimeFormattedGenerator(COUNTRY_CODES, TRAINING_SIZE, MAXLEN_X, MAXLEN_Y, INVERT)\n",
    "\n",
    "gen_vec_test = DateTimeVectorGenerator(gen_dt_test, ctable)\n",
    "\n",
    "X_test, y_test = next(gen_vec_test)"
   ]
  },
  {
   "cell_type": "code",
   "execution_count": 39,
   "metadata": {
    "collapsed": true
   },
   "outputs": [],
   "source": [
    "# learning schedule callback\n",
    "lrate = LearningRateScheduler(step_decay)\n",
    "callbacks_list = [lrate, checkpointer, ]"
   ]
  },
  {
   "cell_type": "code",
   "execution_count": 40,
   "metadata": {
    "collapsed": false,
    "scrolled": false
   },
   "outputs": [
    {
     "name": "stdout",
     "output_type": "stream",
     "text": [
      "--------------------------------------------------\n",
      "Iteration 1\n"
     ]
    },
    {
     "name": "stderr",
     "output_type": "stream",
     "text": [
      "Learning rate adjusted: 0.035\n"
     ]
    },
    {
     "name": "stdout",
     "output_type": "stream",
     "text": [
      "Epoch 1/100\n",
      "68882/69993 [============================>.] - ETA: 0s - loss: 2.6484 - acc: 0.3308Epoch 00000: val_loss improved from inf to 1.54611, saving model to ../models/checkpoint.00-1.55.hdf5\n",
      "69993/69993 [==============================] - 52s - loss: 2.6330 - acc: 0.3336 - val_loss: 1.5461 - val_acc: 0.6067\n",
      "Epoch 2/100\n",
      "68882/69993 [============================>.] - ETA: 0s - loss: 1.1578 - acc: 0.5850Epoch 00001: val_loss improved from 1.54611 to 0.94813, saving model to ../models/checkpoint.01-0.95.hdf5\n",
      "69993/69993 [==============================] - 52s - loss: 1.1543 - acc: 0.5856 - val_loss: 0.9481 - val_acc: 0.6188\n",
      "Epoch 3/100\n",
      "68882/69993 [============================>.] - ETA: 0s - loss: 0.9192 - acc: 0.6313Epoch 00002: val_loss improved from 0.94813 to 0.92302, saving model to ../models/checkpoint.02-0.92.hdf5\n",
      "69993/69993 [==============================] - 51s - loss: 0.9190 - acc: 0.6314 - val_loss: 0.9230 - val_acc: 0.6209\n",
      "Epoch 4/100\n",
      "68882/69993 [============================>.] - ETA: 0s - loss: 0.9023 - acc: 0.6358Epoch 00003: val_loss improved from 0.92302 to 0.90953, saving model to ../models/checkpoint.03-0.91.hdf5\n",
      "69993/69993 [==============================] - 52s - loss: 0.9022 - acc: 0.6358 - val_loss: 0.9095 - val_acc: 0.6320\n",
      "Epoch 5/100\n",
      "68882/69993 [============================>.] - ETA: 0s - loss: 0.8866 - acc: 0.6477Epoch 00004: val_loss improved from 0.90953 to 0.89954, saving model to ../models/checkpoint.04-0.90.hdf5\n",
      "69993/69993 [==============================] - 52s - loss: 0.8865 - acc: 0.6477 - val_loss: 0.8995 - val_acc: 0.6511\n",
      "Epoch 6/100\n",
      "68882/69993 [============================>.] - ETA: 0s - loss: 1.4534 - acc: 0.5766Epoch 00005: val_loss did not improve\n",
      "69993/69993 [==============================] - 51s - loss: 1.4643 - acc: 0.5739 - val_loss: 2.1702 - val_acc: 0.3080\n",
      "Epoch 7/100\n",
      "68882/69993 [============================>.] - ETA: 0s - loss: 1.2735 - acc: 0.5419Epoch 00006: val_loss did not improve\n",
      "69993/69993 [==============================] - 51s - loss: 1.2680 - acc: 0.5433 - val_loss: 0.9368 - val_acc: 0.6171\n",
      "Epoch 8/100\n",
      "68882/69993 [============================>.] - ETA: 0s - loss: 0.9043 - acc: 0.6376Epoch 00007: val_loss did not improve\n",
      "69993/69993 [==============================] - 51s - loss: 0.9040 - acc: 0.6377 - val_loss: 0.9044 - val_acc: 0.6365\n",
      "Epoch 9/100\n",
      "68882/69993 [============================>.] - ETA: 0s - loss: 0.8811 - acc: 0.6477Epoch 00008: val_loss improved from 0.89954 to 0.88705, saving model to ../models/checkpoint.08-0.89.hdf5\n",
      "69993/69993 [==============================] - 52s - loss: 0.8810 - acc: 0.6478 - val_loss: 0.8871 - val_acc: 0.6369\n",
      "Epoch 10/100\n",
      "68882/69993 [============================>.] - ETA: 0s - loss: 0.8654 - acc: 0.6554Epoch 00009: val_loss improved from 0.88705 to 0.87538, saving model to ../models/checkpoint.09-0.88.hdf5\n",
      "69993/69993 [==============================] - 52s - loss: 0.8654 - acc: 0.6553 - val_loss: 0.8754 - val_acc: 0.6421\n",
      "Epoch 11/100\n",
      "68882/69993 [============================>.] - ETA: 0s - loss: 0.8535 - acc: 0.6614Epoch 00010: val_loss improved from 0.87538 to 0.85786, saving model to ../models/checkpoint.10-0.86.hdf5\n",
      "69993/69993 [==============================] - 52s - loss: 0.8534 - acc: 0.6615 - val_loss: 0.8579 - val_acc: 0.6497\n",
      "Epoch 12/100\n",
      "68882/69993 [============================>.] - ETA: 0s - loss: 0.8290 - acc: 0.6796Epoch 00011: val_loss improved from 0.85786 to 0.81575, saving model to ../models/checkpoint.11-0.82.hdf5\n",
      "69993/69993 [==============================] - 52s - loss: 0.8285 - acc: 0.6801 - val_loss: 0.8157 - val_acc: 0.6892\n",
      "Epoch 13/100\n",
      "68882/69993 [============================>.] - ETA: 0s - loss: 0.7911 - acc: 0.7054Epoch 00012: val_loss improved from 0.81575 to 0.75612, saving model to ../models/checkpoint.12-0.76.hdf5\n",
      "69993/69993 [==============================] - 52s - loss: 0.7904 - acc: 0.7059 - val_loss: 0.7561 - val_acc: 0.7207\n",
      "Epoch 14/100\n",
      "68882/69993 [============================>.] - ETA: 0s - loss: 0.7001 - acc: 0.7606Epoch 00013: val_loss improved from 0.75612 to 0.67383, saving model to ../models/checkpoint.13-0.67.hdf5\n",
      "69993/69993 [==============================] - 52s - loss: 0.6994 - acc: 0.7608 - val_loss: 0.6738 - val_acc: 0.7713\n",
      "Epoch 15/100\n",
      "68882/69993 [============================>.] - ETA: 0s - loss: 0.5986 - acc: 0.8149Epoch 00014: val_loss improved from 0.67383 to 0.58988, saving model to ../models/checkpoint.14-0.59.hdf5\n",
      "69993/69993 [==============================] - 52s - loss: 0.5986 - acc: 0.8148 - val_loss: 0.5899 - val_acc: 0.8073\n",
      "Epoch 16/100\n"
     ]
    },
    {
     "name": "stderr",
     "output_type": "stream",
     "text": [
      "Learning rate adjusted: 0.026250000000000002\n"
     ]
    },
    {
     "name": "stdout",
     "output_type": "stream",
     "text": [
      "68882/69993 [============================>.] - ETA: 0s - loss: 0.7265 - acc: 0.7786Epoch 00015: val_loss improved from 0.58988 to 0.57621, saving model to ../models/checkpoint.15-0.58.hdf5\n",
      "69993/69993 [==============================] - 52s - loss: 0.7238 - acc: 0.7795 - val_loss: 0.5762 - val_acc: 0.8285\n",
      "Epoch 17/100\n",
      "68882/69993 [============================>.] - ETA: 0s - loss: 0.4663 - acc: 0.8714Epoch 00016: val_loss improved from 0.57621 to 0.47141, saving model to ../models/checkpoint.16-0.47.hdf5\n",
      "69993/69993 [==============================] - 52s - loss: 0.4656 - acc: 0.8716 - val_loss: 0.4714 - val_acc: 0.8600\n",
      "Epoch 18/100\n",
      "68882/69993 [============================>.] - ETA: 0s - loss: 0.3840 - acc: 0.8970Epoch 00017: val_loss improved from 0.47141 to 0.36081, saving model to ../models/checkpoint.17-0.36.hdf5\n",
      "69993/69993 [==============================] - 52s - loss: 0.3829 - acc: 0.8975 - val_loss: 0.3608 - val_acc: 0.9054\n",
      "Epoch 19/100\n",
      "68882/69993 [============================>.] - ETA: 0s - loss: 0.2977 - acc: 0.9285Epoch 00018: val_loss improved from 0.36081 to 0.28843, saving model to ../models/checkpoint.18-0.29.hdf5\n",
      "69993/69993 [==============================] - 52s - loss: 0.2966 - acc: 0.9289 - val_loss: 0.2884 - val_acc: 0.9272\n",
      "Epoch 20/100\n",
      "68882/69993 [============================>.] - ETA: 0s - loss: 0.2088 - acc: 0.9597Epoch 00019: val_loss improved from 0.28843 to 0.24220, saving model to ../models/checkpoint.19-0.24.hdf5\n",
      "69993/69993 [==============================] - 52s - loss: 0.2086 - acc: 0.9598 - val_loss: 0.2422 - val_acc: 0.9397\n",
      "Epoch 21/100\n",
      "68882/69993 [============================>.] - ETA: 0s - loss: 0.1460 - acc: 0.9790Epoch 00020: val_loss improved from 0.24220 to 0.15499, saving model to ../models/checkpoint.20-0.15.hdf5\n",
      "69993/69993 [==============================] - 52s - loss: 0.1453 - acc: 0.9792 - val_loss: 0.1550 - val_acc: 0.9761\n",
      "Epoch 22/100\n",
      "68882/69993 [============================>.] - ETA: 0s - loss: 0.0877 - acc: 0.9948Epoch 00021: val_loss improved from 0.15499 to 0.11148, saving model to ../models/checkpoint.21-0.11.hdf5\n",
      "69993/69993 [==============================] - 52s - loss: 0.0874 - acc: 0.9949 - val_loss: 0.1115 - val_acc: 0.9861\n",
      "Epoch 23/100\n",
      "68882/69993 [============================>.] - ETA: 0s - loss: 0.0584 - acc: 0.9990Epoch 00022: val_loss improved from 0.11148 to 0.08893, saving model to ../models/checkpoint.22-0.09.hdf5\n",
      "69993/69993 [==============================] - 52s - loss: 0.0582 - acc: 0.9990 - val_loss: 0.0889 - val_acc: 0.9893\n",
      "Epoch 24/100\n",
      "68882/69993 [============================>.] - ETA: 0s - loss: 0.0404 - acc: 1.0000Epoch 00023: val_loss improved from 0.08893 to 0.07329, saving model to ../models/checkpoint.23-0.07.hdf5\n",
      "69993/69993 [==============================] - 52s - loss: 0.0403 - acc: 1.0000 - val_loss: 0.0733 - val_acc: 0.9910\n",
      "Epoch 25/100\n",
      "68882/69993 [============================>.] - ETA: 0s - loss: 0.0312 - acc: 1.0000Epoch 00024: val_loss improved from 0.07329 to 0.06253, saving model to ../models/checkpoint.24-0.06.hdf5\n",
      "69993/69993 [==============================] - 52s - loss: 0.0312 - acc: 1.0000 - val_loss: 0.0625 - val_acc: 0.9924\n",
      "Epoch 26/100\n",
      "68882/69993 [============================>.] - ETA: 0s - loss: 0.0251 - acc: 1.0000Epoch 00025: val_loss improved from 0.06253 to 0.05450, saving model to ../models/checkpoint.25-0.05.hdf5\n",
      "69993/69993 [==============================] - 52s - loss: 0.0251 - acc: 1.0000 - val_loss: 0.0545 - val_acc: 0.9934\n",
      "Epoch 27/100\n",
      "68882/69993 [============================>.] - ETA: 0s - loss: 0.0208 - acc: 1.0000Epoch 00026: val_loss improved from 0.05450 to 0.04831, saving model to ../models/checkpoint.26-0.05.hdf5\n",
      "69993/69993 [==============================] - 52s - loss: 0.0207 - acc: 1.0000 - val_loss: 0.0483 - val_acc: 0.9938\n",
      "Epoch 28/100\n",
      "68882/69993 [============================>.] - ETA: 0s - loss: 0.0176 - acc: 1.0000Epoch 00027: val_loss improved from 0.04831 to 0.04341, saving model to ../models/checkpoint.27-0.04.hdf5\n",
      "69993/69993 [==============================] - 52s - loss: 0.0176 - acc: 1.0000 - val_loss: 0.0434 - val_acc: 0.9945\n",
      "Epoch 29/100\n",
      "68882/69993 [============================>.] - ETA: 0s - loss: 0.0152 - acc: 1.0000Epoch 00028: val_loss improved from 0.04341 to 0.03945, saving model to ../models/checkpoint.28-0.04.hdf5\n",
      "69993/69993 [==============================] - 52s - loss: 0.0151 - acc: 1.0000 - val_loss: 0.0395 - val_acc: 0.9955\n",
      "Epoch 30/100\n",
      "68882/69993 [============================>.] - ETA: 0s - loss: 0.0135 - acc: 1.0000Epoch 00029: val_loss improved from 0.03945 to 0.03694, saving model to ../models/checkpoint.29-0.04.hdf5\n",
      "69993/69993 [==============================] - 52s - loss: 0.0135 - acc: 1.0000 - val_loss: 0.0369 - val_acc: 0.9955\n",
      "Epoch 31/100\n"
     ]
    },
    {
     "name": "stderr",
     "output_type": "stream",
     "text": [
      "Learning rate adjusted: 0.019687500000000004\n"
     ]
    },
    {
     "name": "stdout",
     "output_type": "stream",
     "text": [
      "68882/69993 [============================>.] - ETA: 0s - loss: 0.0123 - acc: 1.0000Epoch 00030: val_loss improved from 0.03694 to 0.03474, saving model to ../models/checkpoint.30-0.03.hdf5\n",
      "69993/69993 [==============================] - 52s - loss: 0.0123 - acc: 1.0000 - val_loss: 0.0347 - val_acc: 0.9958\n",
      "Epoch 32/100\n",
      "68882/69993 [============================>.] - ETA: 0s - loss: 0.0113 - acc: 1.0000Epoch 00031: val_loss improved from 0.03474 to 0.03280, saving model to ../models/checkpoint.31-0.03.hdf5\n",
      "69993/69993 [==============================] - 52s - loss: 0.0113 - acc: 1.0000 - val_loss: 0.0328 - val_acc: 0.9958\n",
      "Epoch 33/100\n",
      "68882/69993 [============================>.] - ETA: 0s - loss: 0.0104 - acc: 1.0000Epoch 00032: val_loss improved from 0.03280 to 0.03109, saving model to ../models/checkpoint.32-0.03.hdf5\n",
      "69993/69993 [==============================] - 52s - loss: 0.0104 - acc: 1.0000 - val_loss: 0.0311 - val_acc: 0.9962\n",
      "Epoch 34/100\n",
      "68882/69993 [============================>.] - ETA: 0s - loss: 0.0096 - acc: 1.0000Epoch 00033: val_loss improved from 0.03109 to 0.02956, saving model to ../models/checkpoint.33-0.03.hdf5\n",
      "69993/69993 [==============================] - 52s - loss: 0.0096 - acc: 1.0000 - val_loss: 0.0296 - val_acc: 0.9969\n",
      "Epoch 35/100\n",
      "68882/69993 [============================>.] - ETA: 0s - loss: 0.0090 - acc: 1.0000Epoch 00034: val_loss improved from 0.02956 to 0.02818, saving model to ../models/checkpoint.34-0.03.hdf5\n",
      "69993/69993 [==============================] - 52s - loss: 0.0090 - acc: 1.0000 - val_loss: 0.0282 - val_acc: 0.9972\n",
      "Epoch 36/100\n",
      "68882/69993 [============================>.] - ETA: 0s - loss: 0.0084 - acc: 1.0000Epoch 00035: val_loss improved from 0.02818 to 0.02693, saving model to ../models/checkpoint.35-0.03.hdf5\n",
      "69993/69993 [==============================] - 52s - loss: 0.0084 - acc: 1.0000 - val_loss: 0.0269 - val_acc: 0.9979\n",
      "Epoch 37/100\n",
      "68882/69993 [============================>.] - ETA: 0s - loss: 0.0079 - acc: 1.0000Epoch 00036: val_loss improved from 0.02693 to 0.02580, saving model to ../models/checkpoint.36-0.03.hdf5\n",
      "69993/69993 [==============================] - 52s - loss: 0.0079 - acc: 1.0000 - val_loss: 0.0258 - val_acc: 0.9979\n",
      "Epoch 38/100\n",
      "68882/69993 [============================>.] - ETA: 0s - loss: 0.0074 - acc: 1.0000Epoch 00037: val_loss improved from 0.02580 to 0.02476, saving model to ../models/checkpoint.37-0.02.hdf5\n",
      "69993/69993 [==============================] - 52s - loss: 0.0074 - acc: 1.0000 - val_loss: 0.0248 - val_acc: 0.9983\n",
      "Epoch 39/100\n",
      "68882/69993 [============================>.] - ETA: 0s - loss: 0.0070 - acc: 1.0000Epoch 00038: val_loss improved from 0.02476 to 0.02380, saving model to ../models/checkpoint.38-0.02.hdf5\n",
      "69993/69993 [==============================] - 52s - loss: 0.0070 - acc: 1.0000 - val_loss: 0.0238 - val_acc: 0.9983\n",
      "Epoch 40/100\n",
      "68882/69993 [============================>.] - ETA: 0s - loss: 0.0066 - acc: 1.0000Epoch 00039: val_loss improved from 0.02380 to 0.02293, saving model to ../models/checkpoint.39-0.02.hdf5\n",
      "69993/69993 [==============================] - 52s - loss: 0.0066 - acc: 1.0000 - val_loss: 0.0229 - val_acc: 0.9986\n",
      "Epoch 41/100\n",
      "68882/69993 [============================>.] - ETA: 0s - loss: 0.0063 - acc: 1.0000Epoch 00040: val_loss improved from 0.02293 to 0.02212, saving model to ../models/checkpoint.40-0.02.hdf5\n",
      "69993/69993 [==============================] - 52s - loss: 0.0063 - acc: 1.0000 - val_loss: 0.0221 - val_acc: 0.9986\n",
      "Epoch 42/100\n",
      "68882/69993 [============================>.] - ETA: 0s - loss: 0.0060 - acc: 1.0000Epoch 00041: val_loss improved from 0.02212 to 0.02137, saving model to ../models/checkpoint.41-0.02.hdf5\n",
      "69993/69993 [==============================] - 52s - loss: 0.0060 - acc: 1.0000 - val_loss: 0.0214 - val_acc: 0.9986\n",
      "Epoch 43/100\n",
      "68882/69993 [============================>.] - ETA: 0s - loss: 0.0057 - acc: 1.0000Epoch 00042: val_loss improved from 0.02137 to 0.02068, saving model to ../models/checkpoint.42-0.02.hdf5\n",
      "69993/69993 [==============================] - 52s - loss: 0.0057 - acc: 1.0000 - val_loss: 0.0207 - val_acc: 0.9986\n",
      "Epoch 44/100\n",
      "68882/69993 [============================>.] - ETA: 0s - loss: 0.0054 - acc: 1.0000Epoch 00043: val_loss improved from 0.02068 to 0.02003, saving model to ../models/checkpoint.43-0.02.hdf5\n",
      "69993/69993 [==============================] - 52s - loss: 0.0054 - acc: 1.0000 - val_loss: 0.0200 - val_acc: 0.9986\n",
      "Epoch 45/100\n",
      "68882/69993 [============================>.] - ETA: 0s - loss: 0.0052 - acc: 1.0000Epoch 00044: val_loss improved from 0.02003 to 0.01957, saving model to ../models/checkpoint.44-0.02.hdf5\n",
      "69993/69993 [==============================] - 52s - loss: 0.0052 - acc: 1.0000 - val_loss: 0.0196 - val_acc: 0.9986\n",
      "Epoch 46/100\n"
     ]
    },
    {
     "name": "stderr",
     "output_type": "stream",
     "text": [
      "Learning rate adjusted: 0.014765625000000001\n"
     ]
    },
    {
     "name": "stdout",
     "output_type": "stream",
     "text": [
      "68882/69993 [============================>.] - ETA: 0s - loss: 0.0050 - acc: 1.0000Epoch 00045: val_loss improved from 0.01957 to 0.01914, saving model to ../models/checkpoint.45-0.02.hdf5\n",
      "69993/69993 [==============================] - 52s - loss: 0.0050 - acc: 1.0000 - val_loss: 0.0191 - val_acc: 0.9986\n",
      "Epoch 47/100\n",
      "68882/69993 [============================>.] - ETA: 0s - loss: 0.0049 - acc: 1.0000Epoch 00046: val_loss improved from 0.01914 to 0.01872, saving model to ../models/checkpoint.46-0.02.hdf5\n",
      "69993/69993 [==============================] - 52s - loss: 0.0049 - acc: 1.0000 - val_loss: 0.0187 - val_acc: 0.9986\n",
      "Epoch 48/100\n",
      "68882/69993 [============================>.] - ETA: 0s - loss: 0.0047 - acc: 1.0000Epoch 00047: val_loss improved from 0.01872 to 0.01833, saving model to ../models/checkpoint.47-0.02.hdf5\n",
      "69993/69993 [==============================] - 52s - loss: 0.0047 - acc: 1.0000 - val_loss: 0.0183 - val_acc: 0.9990\n",
      "Epoch 49/100\n",
      "68882/69993 [============================>.] - ETA: 0s - loss: 0.0046 - acc: 1.0000Epoch 00048: val_loss improved from 0.01833 to 0.01795, saving model to ../models/checkpoint.48-0.02.hdf5\n",
      "69993/69993 [==============================] - 52s - loss: 0.0046 - acc: 1.0000 - val_loss: 0.0180 - val_acc: 0.9990\n",
      "Epoch 50/100\n",
      "68882/69993 [============================>.] - ETA: 0s - loss: 0.0045 - acc: 1.0000Epoch 00049: val_loss improved from 0.01795 to 0.01759, saving model to ../models/checkpoint.49-0.02.hdf5\n",
      "69993/69993 [==============================] - 52s - loss: 0.0045 - acc: 1.0000 - val_loss: 0.0176 - val_acc: 0.9990\n",
      "Epoch 51/100\n",
      "68882/69993 [============================>.] - ETA: 0s - loss: 0.0043 - acc: 1.0000Epoch 00050: val_loss improved from 0.01759 to 0.01725, saving model to ../models/checkpoint.50-0.02.hdf5\n",
      "69993/69993 [==============================] - 52s - loss: 0.0043 - acc: 1.0000 - val_loss: 0.0172 - val_acc: 0.9990\n",
      "Epoch 52/100\n",
      "68882/69993 [============================>.] - ETA: 0s - loss: 0.0042 - acc: 1.0000Epoch 00051: val_loss improved from 0.01725 to 0.01691, saving model to ../models/checkpoint.51-0.02.hdf5\n",
      "69993/69993 [==============================] - 52s - loss: 0.0042 - acc: 1.0000 - val_loss: 0.0169 - val_acc: 0.9990\n",
      "Epoch 53/100\n",
      "68882/69993 [============================>.] - ETA: 0s - loss: 0.0041 - acc: 1.0000Epoch 00052: val_loss improved from 0.01691 to 0.01660, saving model to ../models/checkpoint.52-0.02.hdf5\n",
      "69993/69993 [==============================] - 52s - loss: 0.0041 - acc: 1.0000 - val_loss: 0.0166 - val_acc: 0.9990\n",
      "Epoch 54/100\n",
      "68882/69993 [============================>.] - ETA: 0s - loss: 0.0040 - acc: 1.0000Epoch 00053: val_loss improved from 0.01660 to 0.01629, saving model to ../models/checkpoint.53-0.02.hdf5\n",
      "69993/69993 [==============================] - 52s - loss: 0.0040 - acc: 1.0000 - val_loss: 0.0163 - val_acc: 0.9990\n",
      "Epoch 55/100\n",
      "68882/69993 [============================>.] - ETA: 0s - loss: 0.0039 - acc: 1.0000Epoch 00054: val_loss improved from 0.01629 to 0.01600, saving model to ../models/checkpoint.54-0.02.hdf5\n",
      "69993/69993 [==============================] - 52s - loss: 0.0039 - acc: 1.0000 - val_loss: 0.0160 - val_acc: 0.9990\n",
      "Epoch 56/100\n",
      "68882/69993 [============================>.] - ETA: 0s - loss: 0.0038 - acc: 1.0000Epoch 00055: val_loss improved from 0.01600 to 0.01572, saving model to ../models/checkpoint.55-0.02.hdf5\n",
      "69993/69993 [==============================] - 52s - loss: 0.0038 - acc: 1.0000 - val_loss: 0.0157 - val_acc: 0.9990\n",
      "Epoch 57/100\n",
      "68882/69993 [============================>.] - ETA: 0s - loss: 0.0037 - acc: 1.0000Epoch 00056: val_loss improved from 0.01572 to 0.01545, saving model to ../models/checkpoint.56-0.02.hdf5\n",
      "69993/69993 [==============================] - 52s - loss: 0.0037 - acc: 1.0000 - val_loss: 0.0155 - val_acc: 0.9990\n",
      "Epoch 58/100\n",
      "68882/69993 [============================>.] - ETA: 0s - loss: 0.0036 - acc: 1.0000Epoch 00057: val_loss improved from 0.01545 to 0.01519, saving model to ../models/checkpoint.57-0.02.hdf5\n",
      "69993/69993 [==============================] - 52s - loss: 0.0036 - acc: 1.0000 - val_loss: 0.0152 - val_acc: 0.9990\n",
      "Epoch 59/100\n",
      "68882/69993 [============================>.] - ETA: 0s - loss: 0.0035 - acc: 1.0000Epoch 00058: val_loss improved from 0.01519 to 0.01494, saving model to ../models/checkpoint.58-0.01.hdf5\n",
      "69993/69993 [==============================] - 52s - loss: 0.0035 - acc: 1.0000 - val_loss: 0.0149 - val_acc: 0.9990\n",
      "Epoch 60/100\n",
      "68882/69993 [============================>.] - ETA: 0s - loss: 0.0034 - acc: 1.0000Epoch 00059: val_loss improved from 0.01494 to 0.01476, saving model to ../models/checkpoint.59-0.01.hdf5\n",
      "69993/69993 [==============================] - 52s - loss: 0.0034 - acc: 1.0000 - val_loss: 0.0148 - val_acc: 0.9990\n",
      "Epoch 61/100\n"
     ]
    },
    {
     "name": "stderr",
     "output_type": "stream",
     "text": [
      "Learning rate adjusted: 0.011074218750000002\n"
     ]
    },
    {
     "name": "stdout",
     "output_type": "stream",
     "text": [
      "68882/69993 [============================>.] - ETA: 0s - loss: 0.0034 - acc: 1.0000Epoch 00060: val_loss improved from 0.01476 to 0.01458, saving model to ../models/checkpoint.60-0.01.hdf5\n",
      "69993/69993 [==============================] - 52s - loss: 0.0034 - acc: 1.0000 - val_loss: 0.0146 - val_acc: 0.9990\n",
      "Epoch 62/100\n",
      "68882/69993 [============================>.] - ETA: 0s - loss: 0.0033 - acc: 1.0000Epoch 00061: val_loss improved from 0.01458 to 0.01441, saving model to ../models/checkpoint.61-0.01.hdf5\n",
      "69993/69993 [==============================] - 52s - loss: 0.0033 - acc: 1.0000 - val_loss: 0.0144 - val_acc: 0.9990\n",
      "Epoch 63/100\n",
      "68882/69993 [============================>.] - ETA: 0s - loss: 0.0033 - acc: 1.0000Epoch 00062: val_loss improved from 0.01441 to 0.01424, saving model to ../models/checkpoint.62-0.01.hdf5\n",
      "69993/69993 [==============================] - 52s - loss: 0.0033 - acc: 1.0000 - val_loss: 0.0142 - val_acc: 0.9990\n",
      "Epoch 64/100\n",
      "68882/69993 [============================>.] - ETA: 0s - loss: 0.0032 - acc: 1.0000Epoch 00063: val_loss improved from 0.01424 to 0.01408, saving model to ../models/checkpoint.63-0.01.hdf5\n",
      "69993/69993 [==============================] - 52s - loss: 0.0032 - acc: 1.0000 - val_loss: 0.0141 - val_acc: 0.9990\n",
      "Epoch 65/100\n",
      "68882/69993 [============================>.] - ETA: 0s - loss: 0.0032 - acc: 1.0000Epoch 00064: val_loss improved from 0.01408 to 0.01392, saving model to ../models/checkpoint.64-0.01.hdf5\n",
      "69993/69993 [==============================] - 52s - loss: 0.0032 - acc: 1.0000 - val_loss: 0.0139 - val_acc: 0.9990\n",
      "Epoch 66/100\n",
      "68882/69993 [============================>.] - ETA: 0s - loss: 0.0031 - acc: 1.0000Epoch 00065: val_loss improved from 0.01392 to 0.01377, saving model to ../models/checkpoint.65-0.01.hdf5\n",
      "69993/69993 [==============================] - 52s - loss: 0.0031 - acc: 1.0000 - val_loss: 0.0138 - val_acc: 0.9990\n",
      "Epoch 67/100\n",
      "68882/69993 [============================>.] - ETA: 0s - loss: 0.0031 - acc: 1.0000Epoch 00066: val_loss improved from 0.01377 to 0.01361, saving model to ../models/checkpoint.66-0.01.hdf5\n",
      "69993/69993 [==============================] - 52s - loss: 0.0031 - acc: 1.0000 - val_loss: 0.0136 - val_acc: 0.9990\n",
      "Epoch 68/100\n",
      "68882/69993 [============================>.] - ETA: 0s - loss: 0.0030 - acc: 1.0000Epoch 00067: val_loss improved from 0.01361 to 0.01346, saving model to ../models/checkpoint.67-0.01.hdf5\n",
      "69993/69993 [==============================] - 52s - loss: 0.0030 - acc: 1.0000 - val_loss: 0.0135 - val_acc: 0.9990\n",
      "Epoch 69/100\n",
      "68882/69993 [============================>.] - ETA: 0s - loss: 0.0030 - acc: 1.0000Epoch 00068: val_loss improved from 0.01346 to 0.01332, saving model to ../models/checkpoint.68-0.01.hdf5\n",
      "69993/69993 [==============================] - 52s - loss: 0.0030 - acc: 1.0000 - val_loss: 0.0133 - val_acc: 0.9990\n",
      "Epoch 70/100\n",
      "68882/69993 [============================>.] - ETA: 0s - loss: 0.0029 - acc: 1.0000Epoch 00069: val_loss improved from 0.01332 to 0.01318, saving model to ../models/checkpoint.69-0.01.hdf5\n",
      "69993/69993 [==============================] - 52s - loss: 0.0029 - acc: 1.0000 - val_loss: 0.0132 - val_acc: 0.9990\n",
      "Epoch 71/100\n",
      "68882/69993 [============================>.] - ETA: 0s - loss: 0.0029 - acc: 1.0000Epoch 00070: val_loss improved from 0.01318 to 0.01304, saving model to ../models/checkpoint.70-0.01.hdf5\n",
      "69993/69993 [==============================] - 52s - loss: 0.0029 - acc: 1.0000 - val_loss: 0.0130 - val_acc: 0.9990\n",
      "Epoch 72/100\n",
      "68882/69993 [============================>.] - ETA: 0s - loss: 0.0028 - acc: 1.0000Epoch 00071: val_loss improved from 0.01304 to 0.01291, saving model to ../models/checkpoint.71-0.01.hdf5\n",
      "69993/69993 [==============================] - 52s - loss: 0.0028 - acc: 1.0000 - val_loss: 0.0129 - val_acc: 0.9990\n",
      "Epoch 73/100\n",
      "68882/69993 [============================>.] - ETA: 0s - loss: 0.0028 - acc: 1.0000Epoch 00072: val_loss improved from 0.01291 to 0.01278, saving model to ../models/checkpoint.72-0.01.hdf5\n",
      "69993/69993 [==============================] - 52s - loss: 0.0028 - acc: 1.0000 - val_loss: 0.0128 - val_acc: 0.9990\n",
      "Epoch 74/100\n",
      "68882/69993 [============================>.] - ETA: 0s - loss: 0.0028 - acc: 1.0000Epoch 00073: val_loss improved from 0.01278 to 0.01265, saving model to ../models/checkpoint.73-0.01.hdf5\n",
      "69993/69993 [==============================] - 52s - loss: 0.0028 - acc: 1.0000 - val_loss: 0.0126 - val_acc: 0.9990\n",
      "Epoch 75/100\n",
      "68882/69993 [============================>.] - ETA: 0s - loss: 0.0027 - acc: 1.0000Epoch 00074: val_loss improved from 0.01265 to 0.01255, saving model to ../models/checkpoint.74-0.01.hdf5\n",
      "69993/69993 [==============================] - 52s - loss: 0.0027 - acc: 1.0000 - val_loss: 0.0126 - val_acc: 0.9990\n",
      "Epoch 76/100\n"
     ]
    },
    {
     "name": "stderr",
     "output_type": "stream",
     "text": [
      "Learning rate adjusted: 0.0083056640625\n"
     ]
    },
    {
     "name": "stdout",
     "output_type": "stream",
     "text": [
      "68882/69993 [============================>.] - ETA: 0s - loss: 0.0027 - acc: 1.0000Epoch 00075: val_loss improved from 0.01255 to 0.01246, saving model to ../models/checkpoint.75-0.01.hdf5\n",
      "69993/69993 [==============================] - 52s - loss: 0.0027 - acc: 1.0000 - val_loss: 0.0125 - val_acc: 0.9990\n",
      "Epoch 77/100\n",
      "68882/69993 [============================>.] - ETA: 0s - loss: 0.0027 - acc: 1.0000Epoch 00076: val_loss improved from 0.01246 to 0.01237, saving model to ../models/checkpoint.76-0.01.hdf5\n",
      "69993/69993 [==============================] - 52s - loss: 0.0027 - acc: 1.0000 - val_loss: 0.0124 - val_acc: 0.9990\n",
      "Epoch 78/100\n",
      "68882/69993 [============================>.] - ETA: 0s - loss: 0.0026 - acc: 1.0000Epoch 00077: val_loss improved from 0.01237 to 0.01228, saving model to ../models/checkpoint.77-0.01.hdf5\n",
      "69993/69993 [==============================] - 52s - loss: 0.0026 - acc: 1.0000 - val_loss: 0.0123 - val_acc: 0.9990\n",
      "Epoch 79/100\n",
      "68882/69993 [============================>.] - ETA: 0s - loss: 0.0026 - acc: 1.0000Epoch 00078: val_loss improved from 0.01228 to 0.01219, saving model to ../models/checkpoint.78-0.01.hdf5\n",
      "69993/69993 [==============================] - 52s - loss: 0.0026 - acc: 1.0000 - val_loss: 0.0122 - val_acc: 0.9990\n",
      "Epoch 80/100\n",
      "68882/69993 [============================>.] - ETA: 0s - loss: 0.0026 - acc: 1.0000Epoch 00079: val_loss improved from 0.01219 to 0.01210, saving model to ../models/checkpoint.79-0.01.hdf5\n",
      "69993/69993 [==============================] - 52s - loss: 0.0026 - acc: 1.0000 - val_loss: 0.0121 - val_acc: 0.9990\n",
      "Epoch 81/100\n",
      "68882/69993 [============================>.] - ETA: 0s - loss: 0.0026 - acc: 1.0000Epoch 00080: val_loss improved from 0.01210 to 0.01202, saving model to ../models/checkpoint.80-0.01.hdf5\n",
      "69993/69993 [==============================] - 52s - loss: 0.0026 - acc: 1.0000 - val_loss: 0.0120 - val_acc: 0.9990\n",
      "Epoch 82/100\n",
      "68882/69993 [============================>.] - ETA: 0s - loss: 0.0025 - acc: 1.0000Epoch 00081: val_loss improved from 0.01202 to 0.01193, saving model to ../models/checkpoint.81-0.01.hdf5\n",
      "69993/69993 [==============================] - 52s - loss: 0.0025 - acc: 1.0000 - val_loss: 0.0119 - val_acc: 0.9990\n",
      "Epoch 83/100\n",
      "68882/69993 [============================>.] - ETA: 0s - loss: 0.0025 - acc: 1.0000Epoch 00082: val_loss improved from 0.01193 to 0.01185, saving model to ../models/checkpoint.82-0.01.hdf5\n",
      "69993/69993 [==============================] - 52s - loss: 0.0025 - acc: 1.0000 - val_loss: 0.0119 - val_acc: 0.9990\n",
      "Epoch 84/100\n",
      "68882/69993 [============================>.] - ETA: 0s - loss: 0.0025 - acc: 1.0000Epoch 00083: val_loss improved from 0.01185 to 0.01177, saving model to ../models/checkpoint.83-0.01.hdf5\n",
      "69993/69993 [==============================] - 52s - loss: 0.0025 - acc: 1.0000 - val_loss: 0.0118 - val_acc: 0.9990\n",
      "Epoch 85/100\n",
      "68882/69993 [============================>.] - ETA: 0s - loss: 0.0025 - acc: 1.0000Epoch 00084: val_loss improved from 0.01177 to 0.01169, saving model to ../models/checkpoint.84-0.01.hdf5\n",
      "69993/69993 [==============================] - 52s - loss: 0.0025 - acc: 1.0000 - val_loss: 0.0117 - val_acc: 0.9990\n",
      "Epoch 86/100\n",
      "68882/69993 [============================>.] - ETA: 0s - loss: 0.0024 - acc: 1.0000Epoch 00085: val_loss improved from 0.01169 to 0.01161, saving model to ../models/checkpoint.85-0.01.hdf5\n",
      "69993/69993 [==============================] - 52s - loss: 0.0024 - acc: 1.0000 - val_loss: 0.0116 - val_acc: 0.9990\n",
      "Epoch 87/100\n",
      "68882/69993 [============================>.] - ETA: 0s - loss: 0.0024 - acc: 1.0000Epoch 00086: val_loss improved from 0.01161 to 0.01153, saving model to ../models/checkpoint.86-0.01.hdf5\n",
      "69993/69993 [==============================] - 52s - loss: 0.0024 - acc: 1.0000 - val_loss: 0.0115 - val_acc: 0.9990\n",
      "Epoch 88/100\n",
      "68882/69993 [============================>.] - ETA: 0s - loss: 0.0024 - acc: 1.0000Epoch 00087: val_loss improved from 0.01153 to 0.01145, saving model to ../models/checkpoint.87-0.01.hdf5\n",
      "69993/69993 [==============================] - 52s - loss: 0.0024 - acc: 1.0000 - val_loss: 0.0115 - val_acc: 0.9990\n",
      "Epoch 89/100\n",
      "68882/69993 [============================>.] - ETA: 0s - loss: 0.0024 - acc: 1.0000Epoch 00088: val_loss improved from 0.01145 to 0.01138, saving model to ../models/checkpoint.88-0.01.hdf5\n",
      "69993/69993 [==============================] - 52s - loss: 0.0024 - acc: 1.0000 - val_loss: 0.0114 - val_acc: 0.9990\n",
      "Epoch 90/100\n",
      "68882/69993 [============================>.] - ETA: 0s - loss: 0.0023 - acc: 1.0000Epoch 00089: val_loss improved from 0.01138 to 0.01132, saving model to ../models/checkpoint.89-0.01.hdf5\n",
      "69993/69993 [==============================] - 51s - loss: 0.0023 - acc: 1.0000 - val_loss: 0.0113 - val_acc: 0.9990\n",
      "Epoch 91/100\n"
     ]
    },
    {
     "name": "stderr",
     "output_type": "stream",
     "text": [
      "Learning rate adjusted: 0.006229248046875001\n"
     ]
    },
    {
     "name": "stdout",
     "output_type": "stream",
     "text": [
      "68882/69993 [============================>.] - ETA: 0s - loss: 0.0023 - acc: 1.0000Epoch 00090: val_loss improved from 0.01132 to 0.01127, saving model to ../models/checkpoint.90-0.01.hdf5\n",
      "69993/69993 [==============================] - 52s - loss: 0.0023 - acc: 1.0000 - val_loss: 0.0113 - val_acc: 0.9990\n",
      "Epoch 92/100\n",
      "68882/69993 [============================>.] - ETA: 0s - loss: 0.0023 - acc: 1.0000Epoch 00091: val_loss improved from 0.01127 to 0.01121, saving model to ../models/checkpoint.91-0.01.hdf5\n",
      "69993/69993 [==============================] - 52s - loss: 0.0023 - acc: 1.0000 - val_loss: 0.0112 - val_acc: 0.9990\n",
      "Epoch 93/100\n",
      "68882/69993 [============================>.] - ETA: 0s - loss: 0.0023 - acc: 1.0000Epoch 00092: val_loss improved from 0.01121 to 0.01116, saving model to ../models/checkpoint.92-0.01.hdf5\n",
      "69993/69993 [==============================] - 52s - loss: 0.0023 - acc: 1.0000 - val_loss: 0.0112 - val_acc: 0.9990\n",
      "Epoch 94/100\n",
      "68882/69993 [============================>.] - ETA: 0s - loss: 0.0023 - acc: 1.0000Epoch 00093: val_loss improved from 0.01116 to 0.01110, saving model to ../models/checkpoint.93-0.01.hdf5\n",
      "69993/69993 [==============================] - 52s - loss: 0.0023 - acc: 1.0000 - val_loss: 0.0111 - val_acc: 0.9990\n",
      "Epoch 95/100\n",
      "68882/69993 [============================>.] - ETA: 0s - loss: 0.0023 - acc: 1.0000Epoch 00094: val_loss improved from 0.01110 to 0.01105, saving model to ../models/checkpoint.94-0.01.hdf5\n",
      "69993/69993 [==============================] - 52s - loss: 0.0023 - acc: 1.0000 - val_loss: 0.0110 - val_acc: 0.9990\n",
      "Epoch 96/100\n",
      "68882/69993 [============================>.] - ETA: 0s - loss: 0.0022 - acc: 1.0000Epoch 00095: val_loss improved from 0.01105 to 0.01099, saving model to ../models/checkpoint.95-0.01.hdf5\n",
      "69993/69993 [==============================] - 52s - loss: 0.0022 - acc: 1.0000 - val_loss: 0.0110 - val_acc: 0.9990\n",
      "Epoch 97/100\n",
      "68882/69993 [============================>.] - ETA: 0s - loss: 0.0022 - acc: 1.0000Epoch 00096: val_loss improved from 0.01099 to 0.01094, saving model to ../models/checkpoint.96-0.01.hdf5\n",
      "69993/69993 [==============================] - 52s - loss: 0.0022 - acc: 1.0000 - val_loss: 0.0109 - val_acc: 0.9990\n",
      "Epoch 98/100\n",
      "68882/69993 [============================>.] - ETA: 0s - loss: 0.0022 - acc: 1.0000Epoch 00097: val_loss improved from 0.01094 to 0.01089, saving model to ../models/checkpoint.97-0.01.hdf5\n",
      "69993/69993 [==============================] - 52s - loss: 0.0022 - acc: 1.0000 - val_loss: 0.0109 - val_acc: 0.9990\n",
      "Epoch 99/100\n",
      "68882/69993 [============================>.] - ETA: 0s - loss: 0.0022 - acc: 1.0000Epoch 00098: val_loss improved from 0.01089 to 0.01084, saving model to ../models/checkpoint.98-0.01.hdf5\n",
      "69993/69993 [==============================] - 52s - loss: 0.0022 - acc: 1.0000 - val_loss: 0.0108 - val_acc: 0.9990\n",
      "Epoch 100/100\n",
      "68882/69993 [============================>.] - ETA: 0s - loss: 0.0022 - acc: 1.0000Epoch 00099: val_loss improved from 0.01084 to 0.01079, saving model to ../models/checkpoint.99-0.01.hdf5\n",
      "69993/69993 [==============================] - 52s - loss: 0.0022 - acc: 1.0000 - val_loss: 0.0108 - val_acc: 0.9990\n"
     ]
    },
    {
     "data": {
      "image/png": "[encoded data removed]",
      "text/plain": [
       "<matplotlib.figure.Figure at 0x7f999048d470>"
      ]
     },
     "metadata": {},
     "output_type": "display_data"
    }
   ],
   "source": [
    "# Train the model each generation and show predictions against the validation dataset\n",
    "\n",
    "for iteration in range(1, 1+1):\n",
    "    print('-' * 50)\n",
    "    print('Iteration', iteration)\n",
    "    \n",
    "    # switch locale (probably)\n",
    "    gen_dt_train = DateTimeIsoGenerator(COUNTRY_CODES, TRAINING_SIZE, MAXLEN_X, MAXLEN_Y, INVERT)  \n",
    "    gen_dt_val   = DateTimeIsoGenerator(COUNTRY_CODES, VALIDATION_SIZE, MAXLEN_X, MAXLEN_Y, INVERT)\n",
    "    ## or\n",
    "    #gen_dt_train = DateTimeFormattedGenerator(COUNTRY_CODES, TRAINING_SIZE, MAXLEN_X, MAXLEN_Y, INVERT)\n",
    "    #gen_dt_val   = DateTimeFormattedGenerator(COUNTRY_CODES, VALIDATION_SIZE, MAXLEN_X, MAXLEN_Y, INVERT)\n",
    "\n",
    "    gen_vec_train      = DateTimeVectorGenerator(gen_dt_train, ctable)\n",
    "    gen_vec_validation = DateTimeVectorGenerator(gen_dt_val,   ctable)\n",
    "    \n",
    "    learning_hist.append(\n",
    "            model.fit_generator( gen_vec_train, \n",
    "                                samples_per_epoch=69993, #88880, #, \n",
    "                                nb_epoch=100, \n",
    "                                verbose=1, \n",
    "                                callbacks=callbacks_list, \n",
    "                                validation_data=gen_vec_validation, \n",
    "                                nb_val_samples=VALIDATION_SIZE, \n",
    "                                #class_weight={}, \n",
    "                                #max_q_size=10, \n",
    "                                #nb_worker=1, \n",
    "                                #pickle_safe=False\n",
    "                               )\n",
    "            )\n",
    "    ###\n",
    "    # Select 3 samples from the test set so we can visualize errors\n",
    "    if iteration % 5 == 0:\n",
    "        model.save('../models/datatime_autoencoder_model.h5')\n",
    "        for i in range(3):\n",
    "            X_test, y_test = next(gen_vec_test)            \n",
    "            preds = model.predict_classes(X_test, verbose=0)\n",
    "            q = ctable.decode(X_test[0])\n",
    "            correct = ctable.decode(y_test[0])\n",
    "            guess = ctable.decode(preds[0], calc_argmax=False)\n",
    "            print('Q', q[::-1] if INVERT else q )\n",
    "            print('T', correct)\n",
    "            print(colors.ok + '☑' + colors.close if correct == guess else colors.fail + '☒' + colors.close, guess)\n",
    "\n",
    "visualize_history(learning_hist)            "
   ]
  },
  {
   "cell_type": "code",
   "execution_count": 23,
   "metadata": {
    "collapsed": false
   },
   "outputs": [],
   "source": [
    "#!! rm ../models/checkpoint.*"
   ]
  },
  {
   "cell_type": "code",
   "execution_count": 24,
   "metadata": {
    "collapsed": false
   },
   "outputs": [
    {
     "ename": "SyntaxError",
     "evalue": "invalid syntax (<ipython-input-24-4475975b321a>, line 1)",
     "output_type": "error",
     "traceback": [
      "\u001b[0;36m  File \u001b[0;32m\"<ipython-input-24-4475975b321a>\"\u001b[0;36m, line \u001b[0;32m1\u001b[0m\n\u001b[0;31m    Bumped lr=0.05, nb_epoch=1,  576(72*8) Hidden, iterations=50, Relu\u001b[0m\n\u001b[0m            ^\u001b[0m\n\u001b[0;31mSyntaxError\u001b[0m\u001b[0;31m:\u001b[0m invalid syntax\n"
     ]
    }
   ],
   "source": [
    "Bumped lr=0.05, nb_epoch=1,  576(72*8) Hidden, iterations=50, Relu"
   ]
  },
  {
   "cell_type": "markdown",
   "metadata": {},
   "source": [
    "<h1>Results</h1>"
   ]
  },
  {
   "cell_type": "code",
   "execution_count": null,
   "metadata": {
    "collapsed": true
   },
   "outputs": [],
   "source": [
    "--------------------------------------------------\n",
    "Iteration 151\n",
    "Epoch 1/1\n",
    "69993/69993 [==============================] - 35s - loss: 0.7406 - acc: 0.7026 - val_loss: 0.7502 - val_acc: 0.7017"
   ]
  },
  {
   "cell_type": "code",
   "execution_count": null,
   "metadata": {
    "collapsed": true
   },
   "outputs": [],
   "source": [
    "--------------------------------------------------\n",
    "Iteration 125\n",
    "Epoch 1/1\n",
    "69993/69993 [==============================] - 35s - loss: 1.5492 - acc: 0.5519 - val_loss: 1.5425 - val_acc: 0.5606\n",
    "Q 2012-02-14T07:26:58                                                     \n",
    "T 2012-02-14T07:26:58       \n",
    "☒ 2090-01-0000:::::         \n",
    "Q 2012-02-14T07:26:58                                                     \n",
    "T 2012-02-14T07:26:58       \n",
    "☒ 2090-01-0000:::::         \n",
    "Q 2012-02-14T07:26:58                                                     \n",
    "T 2012-02-14T07:26:58       \n",
    "☒ 2090-01-0000:::::   "
   ]
  },
  {
   "cell_type": "code",
   "execution_count": null,
   "metadata": {
    "collapsed": true
   },
   "outputs": [],
   "source": [
    "------------sgd hidden*5--------------------------------------\n",
    "Iteration 50\n",
    "Epoch 1/1\n",
    "69993/69993 [==============================] - 19s - loss: 1.6622 - acc: 0.5932 - val_loss: 1.6589 - val_acc: 0.5925\n",
    "Q 2042-10-15 00:45:32                                                     \n",
    "T 2042-10-15T00:45:32       \n",
    "☒ 2000-00-01T11::::         \n",
    "Q 2042-10-15 00:45:32                                                     \n",
    "T 2042-10-15T00:45:32       \n",
    "☒ 2000-00-01T11::::         \n",
    "Q 2042-10-15 00:45:32                                                     \n",
    "T 2042-10-15T00:45:32       \n",
    "☒ 2000-00-01T11:::: "
   ]
  },
  {
   "cell_type": "code",
   "execution_count": null,
   "metadata": {
    "collapsed": true
   },
   "outputs": [],
   "source": [
    "Iteration 50\n",
    "Epoch 1/1\n",
    "69993/69993 [==============================] - 57s - loss: 1.3140 - acc: 0.5820 - val_loss: 1.3093 - val_acc: 0.5811\n",
    "Q 2045-04-22T12:16:56                                                     \n",
    "T 2045-04-22T12:16:56       \n",
    "☒ 200--00--1TT:::::::       \n",
    "Q 2045-04-22T12:16:56                                                     \n",
    "T 2045-04-22T12:16:56       \n",
    "☒ 200--00--1TT:::::::       \n",
    "Q 2045-04-22T12:16:56                                                     \n",
    "T 2045-04-22T12:16:56       \n",
    "☒ 200--00--1TT:::::::"
   ]
  },
  {
   "cell_type": "markdown",
   "metadata": {},
   "source": [
    "<h2>2 Layer, Relu, lr=0.01, 360(72*5) Hidden, ISO8601</h2>\n",
    "~~~\n",
    "Iteration 60\n",
    "Epoch 1/1\n",
    "69993/69993 [==============================] - 38s - loss: 0.7598 - acc: 0.7147 - val_loss: 0.7792 - val_acc: 0.7100\n",
    "Q 2082-12-26 01:57:13                                                     \n",
    "T 2082-12-26T01:57:13       \n",
    "☒ 2022-12-22T12:22:12       \n",
    "Q 2082-12-26 01:57:13                                                     \n",
    "T 2082-12-26T01:57:13       \n",
    "☒ 2022-12-22T12:22:12       \n",
    "Q 2082-12-26 01:57:13                                                     \n",
    "T 2082-12-26T01:57:13       \n",
    "☒ 2022-12-22T12:22:12\n",
    "~~~"
   ]
  },
  {
   "cell_type": "markdown",
   "metadata": {},
   "source": [
    "<h2>2 Layer Adam, 333 Hidden, ISO8601</h2>\n",
    "~~~\n",
    "Iteration 20\n",
    "Epoch 1/1\n",
    "69993/69993 [==============================] - 41s - loss: 1.9638 - acc: 0.3964 - val_loss: 1.9701 - val_acc: 0.3957\n",
    "Q 2065-02-19 13:56:52                                                     \n",
    "T 2065-02-19T13:56:52       \n",
    "☒ 200000000000              \n",
    "Q 2065-02-19 13:56:52                                                     \n",
    "T 2065-02-19T13:56:52       \n",
    "☒ 200000000000              \n",
    "Q 2065-02-19 13:56:52                                                     \n",
    "T 2065-02-19T13:56:52       \n",
    "☒ 200000000000 \n",
    "~~~"
   ]
  },
  {
   "cell_type": "markdown",
   "metadata": {
    "collapsed": true
   },
   "source": [
    "<h2>3 Layer, Adam, 333 hidden, ISO8601</h2>\n",
    "~~~\n",
    "Iteration 200\n",
    "Epoch 1/1\n",
    "46662/46662 [==============================] - 32s - loss: 0.5656 - acc: 0.7843 - val_loss: 0.5589 - val_acc: 0.7904\n",
    "Q 2007-07-14T13:26:06                                                     \n",
    "T 2007-07-14T13:26:06       \n",
    "☒ 2007-07-11T11:57:57       \n",
    "Q 2007-07-14T13:26:06                                                     \n",
    "T 2007-07-14T13:26:06       \n",
    "☒ 2007-07-11T11:57:57       \n",
    "Q 2007-07-14T13:26:06                                                     \n",
    "T 2007-07-14T13:26:06       \n",
    "☒ 2007-07-11T11:57:57     \n",
    "~~~"
   ]
  },
  {
   "cell_type": "code",
   "execution_count": null,
   "metadata": {
    "collapsed": true
   },
   "outputs": [],
   "source": []
  },
  {
   "cell_type": "code",
   "execution_count": null,
   "metadata": {
    "collapsed": true
   },
   "outputs": [],
   "source": []
  },
  {
   "cell_type": "code",
   "execution_count": null,
   "metadata": {
    "collapsed": true
   },
   "outputs": [],
   "source": []
  },
  {
   "cell_type": "code",
   "execution_count": 47,
   "metadata": {
    "collapsed": false
   },
   "outputs": [
    {
     "name": "stdout",
     "output_type": "stream",
     "text": [
      "Q 2035-06-25T19:58:17                                                     \n",
      "T 2035-06-25T19:58:17       \n",
      "\u001b[92m☑\u001b[0m 2035-06-25T19:58:17       \n"
     ]
    }
   ],
   "source": [
    "X_test, y_test = next(gen_vec_test)            \n",
    "preds = model.predict_classes(X_test, verbose=0)\n",
    "q = ctable.decode(X_test[0])\n",
    "correct = ctable.decode(y_test[0])\n",
    "guess = ctable.decode(preds[0], calc_argmax=False)\n",
    "print('Q', q[::-1] if INVERT else q )\n",
    "print('T', correct)\n",
    "print(colors.ok + '☑' + colors.close if correct == guess else colors.fail + '☒' + colors.close, guess)"
   ]
  },
  {
   "cell_type": "code",
   "execution_count": null,
   "metadata": {
    "collapsed": false
   },
   "outputs": [],
   "source": [
    "len(learning_hist[0].history['loss'])"
   ]
  },
  {
   "cell_type": "code",
   "execution_count": 42,
   "metadata": {
    "collapsed": false
   },
   "outputs": [
    {
     "data": {
      "image/png": "[encoded data removed]",
      "text/plain": [
       "<matplotlib.figure.Figure at 0x7f997743eba8>"
      ]
     },
     "metadata": {},
     "output_type": "display_data"
    }
   ],
   "source": [
    "plt.figure(figsize=(12, 6))\n",
    "discard = int(math.ceil(len(learning_hist)/100))*20\n",
    "# skip the first few, they destroy plot scale\n",
    "plt.plot([i for i in learning_hist[-1].history['loss'][discard:]], label='loss')\n",
    "plt.plot([i for i in learning_hist[-1].history['val_loss'][discard:]], label='val_loss')\n",
    "\n",
    "plt.ylabel('error')\n",
    "plt.xlabel('iteration')\n",
    "plt.legend()\n",
    "#plt.ylim([0, 0.005])\n",
    "plt.title('training error')\n",
    "plt.show()"
   ]
  },
  {
   "cell_type": "code",
   "execution_count": null,
   "metadata": {
    "collapsed": true
   },
   "outputs": [],
   "source": []
  },
  {
   "cell_type": "code",
   "execution_count": null,
   "metadata": {
    "collapsed": false
   },
   "outputs": [],
   "source": [
    "len(learning_hist[0].history['loss'])"
   ]
  },
  {
   "cell_type": "code",
   "execution_count": null,
   "metadata": {
    "collapsed": true
   },
   "outputs": [],
   "source": [
    "model.save('../models/datatime_autoencoder_model.h5')"
   ]
  },
  {
   "cell_type": "code",
   "execution_count": null,
   "metadata": {
    "collapsed": true
   },
   "outputs": [],
   "source": []
  }
 ],
 "metadata": {
  "kernelspec": {
   "display_name": "Python 3",
   "language": "python",
   "name": "python3"
  },
  "language_info": {
   "codemirror_mode": {
    "name": "ipython",
    "version": 3
   },
   "file_extension": ".py",
   "mimetype": "text/x-python",
   "name": "python",
   "nbconvert_exporter": "python",
   "pygments_lexer": "ipython3",
   "version": "3.4.3"
  }
 },
 "nbformat": 4,
 "nbformat_minor": 1
}
